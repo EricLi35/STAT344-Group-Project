{
 "cells": [
  {
   "cell_type": "code",
   "execution_count": 1,
   "metadata": {
    "id": "77MOB0lmNLAE"
   },
   "outputs": [],
   "source": [
    "options(digits=15)"
   ]
  },
  {
   "cell_type": "code",
   "execution_count": 2,
   "metadata": {
    "colab": {
     "base_uri": "https://localhost:8080/"
    },
    "id": "oIi0EWSo9nyY",
    "outputId": "53fe3415-37a0-450c-a4e7-e7af92da469e"
   },
   "outputs": [
    {
     "name": "stderr",
     "output_type": "stream",
     "text": [
      "Warning message:\n",
      "“package ‘dplyr’ was built under R version 4.3.2”\n",
      "\n",
      "Attaching package: ‘dplyr’\n",
      "\n",
      "\n",
      "The following objects are masked from ‘package:stats’:\n",
      "\n",
      "    filter, lag\n",
      "\n",
      "\n",
      "The following objects are masked from ‘package:base’:\n",
      "\n",
      "    intersect, setdiff, setequal, union\n",
      "\n",
      "\n"
     ]
    }
   ],
   "source": [
    "library(dplyr)\n",
    "library(tidyr)\n",
    "library(readr)\n",
    "set.seed(123)"
   ]
  },
  {
   "cell_type": "code",
   "execution_count": 3,
   "metadata": {
    "colab": {
     "base_uri": "https://localhost:8080/",
     "height": 227
    },
    "id": "uf1oOHu2Nwk5",
    "outputId": "a645edcf-a909-4a2d-d612-8bd72a7e9596"
   },
   "outputs": [
    {
     "name": "stdout",
     "output_type": "stream",
     "text": [
      "[1] 10178\n"
     ]
    }
   ],
   "source": [
    "movies <- read.csv(\"imdb_movies.csv\")\n",
    "print(nrow(movies))"
   ]
  },
  {
   "cell_type": "markdown",
   "metadata": {
    "id": "GMoxr23D2dVu"
   },
   "source": [
    "# What Kind of Genres are There?"
   ]
  },
  {
   "cell_type": "code",
   "execution_count": 4,
   "metadata": {
    "id": "FXCxyH072b7o"
   },
   "outputs": [
    {
     "data": {
      "text/html": [
       "<style>\n",
       ".list-inline {list-style: none; margin:0; padding: 0}\n",
       ".list-inline>li {display: inline-block}\n",
       ".list-inline>li:not(:last-child)::after {content: \"\\00b7\"; padding: 0 .5ex}\n",
       "</style>\n",
       "<ol class=list-inline><li>'Action'</li><li>'Horror'</li><li>'Thriller'</li><li>'Drama'</li><li>'Documentary'</li><li>'Comedy'</li><li>'Music'</li><li>'Science Fiction'</li><li>'Animation'</li><li>'Fantasy'</li><li>''</li><li>'Romance'</li><li>'Crime'</li><li>'Western'</li><li>'War'</li><li>'History'</li><li>'Adventure'</li><li>'Family'</li><li>'Mystery'</li></ol>\n"
      ],
      "text/latex": [
       "\\begin{enumerate*}\n",
       "\\item 'Action'\n",
       "\\item 'Horror'\n",
       "\\item 'Thriller'\n",
       "\\item 'Drama'\n",
       "\\item 'Documentary'\n",
       "\\item 'Comedy'\n",
       "\\item 'Music'\n",
       "\\item 'Science Fiction'\n",
       "\\item 'Animation'\n",
       "\\item 'Fantasy'\n",
       "\\item ''\n",
       "\\item 'Romance'\n",
       "\\item 'Crime'\n",
       "\\item 'Western'\n",
       "\\item 'War'\n",
       "\\item 'History'\n",
       "\\item 'Adventure'\n",
       "\\item 'Family'\n",
       "\\item 'Mystery'\n",
       "\\end{enumerate*}\n"
      ],
      "text/markdown": [
       "1. 'Action'\n",
       "2. 'Horror'\n",
       "3. 'Thriller'\n",
       "4. 'Drama'\n",
       "5. 'Documentary'\n",
       "6. 'Comedy'\n",
       "7. 'Music'\n",
       "8. 'Science Fiction'\n",
       "9. 'Animation'\n",
       "10. 'Fantasy'\n",
       "11. ''\n",
       "12. 'Romance'\n",
       "13. 'Crime'\n",
       "14. 'Western'\n",
       "15. 'War'\n",
       "16. 'History'\n",
       "17. 'Adventure'\n",
       "18. 'Family'\n",
       "19. 'Mystery'\n",
       "\n",
       "\n"
      ],
      "text/plain": [
       " [1] \"Action\"          \"Horror\"          \"Thriller\"        \"Drama\"          \n",
       " [5] \"Documentary\"     \"Comedy\"          \"Music\"           \"Science Fiction\"\n",
       " [9] \"Animation\"       \"Fantasy\"         \"\"                \"Romance\"        \n",
       "[13] \"Crime\"           \"Western\"         \"War\"             \"History\"        \n",
       "[17] \"Adventure\"       \"Family\"          \"Mystery\"        "
      ]
     },
     "metadata": {},
     "output_type": "display_data"
    },
    {
     "name": "stdout",
     "output_type": "stream",
     "text": [
      "[1] \"The number of unique genres is 18\"\n"
     ]
    }
   ],
   "source": [
    "# Remove any movies that have a genre of multiple types. (which means, look for commas.)\n",
    "# For example, we have a movie with genre \"Horror, Thriller\".\n",
    "# We exclude that, and only keep movies that are either \"Horror\" or \"Thriller\", but not both.\n",
    "\n",
    "filtered_df <- subset(movies, !grepl(\",\", genre))\n",
    "# filtered_df\n",
    "\n",
    "unique(filtered_df$genre)\n",
    "\n",
    "# but we subtract one, because there is an empty genre, ''.\n",
    "\n",
    "print(paste('The number of unique genres is' , length(unique(filtered_df$genre))-1))"
   ]
  },
  {
   "cell_type": "markdown",
   "metadata": {
    "id": "uFd3Xlc02vWH"
   },
   "source": [
    "Notice that there is a genre that's \"\". We need to exlcude those.\n",
    "\n",
    "After counting the rest, we find out that there's 18 unique genres.\n",
    "\n",
    "However, there's a catch. What we did here was find all genres that are single, by themselves.\n",
    "\n",
    "We later found out that there's another genre, called \"TV Movie\", which **only appears when it's combined with other genres**. There's not a movie who's genre is only just \"TV Movie\" , which is why we did not discover it here."
   ]
  },
  {
   "cell_type": "code",
   "execution_count": 5,
   "metadata": {
    "id": "7QO5a62qOQzT"
   },
   "outputs": [],
   "source": [
    "# There are some movies without a genre.\n",
    "# Firstly, we wish to exlcude those.\n",
    "movies <- movies %>% filter(genre!='')"
   ]
  },
  {
   "cell_type": "code",
   "execution_count": 6,
   "metadata": {
    "id": "YVFut1cJ2G3a"
   },
   "outputs": [
    {
     "name": "stdout",
     "output_type": "stream",
     "text": [
      "[1] 10093\n"
     ]
    }
   ],
   "source": [
    "print(nrow(movies))\n",
    "# Number of rows went from 10,178 to 10,093."
   ]
  },
  {
   "cell_type": "code",
   "execution_count": 7,
   "metadata": {
    "id": "7DZ0YYUYOozn"
   },
   "outputs": [
    {
     "data": {
      "text/html": [
       "<table class=\"dataframe\">\n",
       "<caption>A data.frame: 6 × 12</caption>\n",
       "<thead>\n",
       "\t<tr><th></th><th scope=col>names</th><th scope=col>date_x</th><th scope=col>score</th><th scope=col>genre</th><th scope=col>overview</th><th scope=col>crew</th><th scope=col>orig_title</th><th scope=col>status</th><th scope=col>orig_lang</th><th scope=col>budget_x</th><th scope=col>revenue</th><th scope=col>country</th></tr>\n",
       "\t<tr><th></th><th scope=col>&lt;chr&gt;</th><th scope=col>&lt;chr&gt;</th><th scope=col>&lt;dbl&gt;</th><th scope=col>&lt;chr&gt;</th><th scope=col>&lt;chr&gt;</th><th scope=col>&lt;chr&gt;</th><th scope=col>&lt;chr&gt;</th><th scope=col>&lt;chr&gt;</th><th scope=col>&lt;chr&gt;</th><th scope=col>&lt;dbl&gt;</th><th scope=col>&lt;dbl&gt;</th><th scope=col>&lt;chr&gt;</th></tr>\n",
       "</thead>\n",
       "<tbody>\n",
       "\t<tr><th scope=row>1</th><td>Creed III                  </td><td>03/02/2023 </td><td>73</td><td>Drama, Action                                </td><td>After dominating the boxing world, Adonis Creed has been thriving in both his career and family life. When a childhood friend and former boxing prodigy, Damien Anderson, resurfaces after serving a long sentence in prison, he is eager to prove that he deserves his shot in the ring. The face-off between former friends is more than just a fight. To settle the score, Adonis must put his future on the line to battle Damien — a fighter who has nothing to lose.</td><td>Michael B. Jordan, Adonis Creed, Tessa Thompson, Bianca Taylor, Jonathan Majors, Damien Anderson, Wood Harris, Tony 'Little Duke' Evers, Phylicia Rashād, Mary Anne Creed, Mila Davis-Kent, Amara Creed, Florian Munteanu, Viktor Drago, José Benavidez Jr., Felix Chavez, Selenis Leyva, Laura Chavez         </td><td>Creed III                  </td><td> Released</td><td> English           </td><td>7.50e+07</td><td> 271616668.0</td><td>AU</td></tr>\n",
       "\t<tr><th scope=row>2</th><td>Avatar: The Way of Water   </td><td>12/15/2022 </td><td>78</td><td>Science Fiction, Adventure, Action           </td><td>Set more than a decade after the events of the first film, learn the story of the Sully family (Jake, Neytiri, and their kids), the trouble that follows them, the lengths they go to keep each other safe, the battles they fight to stay alive, and the tragedies they endure.                                                                                                                                                                                          </td><td>Sam Worthington, Jake Sully, Zoe Saldaña, Neytiri, Sigourney Weaver, Kiri / Dr. Grace Augustine, Stephen Lang, Colonel Miles Quaritch, Kate Winslet, Ronal, Cliff Curtis, Tonowari, Joel David Moore, Norm Spellman, CCH Pounder, Mo'at, Edie Falco, General Frances Ardmore                                   </td><td>Avatar: The Way of Water   </td><td> Released</td><td> English           </td><td>4.60e+08</td><td>2316794914.0</td><td>AU</td></tr>\n",
       "\t<tr><th scope=row>3</th><td>The Super Mario Bros. Movie</td><td>04/05/2023 </td><td>76</td><td>Animation, Adventure, Family, Fantasy, Comedy</td><td>While working underground to fix a water main, Brooklyn plumbers—and brothers—Mario and Luigi are transported down a mysterious pipe and wander into a magical new world. But when the brothers are separated, Mario embarks on an epic quest to find Luigi.                                                                                                                                                                                                              </td><td>Chris Pratt, Mario (voice), Anya Taylor-Joy, Princess Peach (voice), Charlie Day, Luigi (voice), Jack Black, Bowser (voice), Keegan-Michael Key, Toad (voice), Seth Rogen, Donkey Kong (voice), Fred Armisen, Cranky Kong (voice), Kevin Michael Richardson, Kamek (voice), Sebastian Maniscalco, Spike (voice)</td><td>The Super Mario Bros. Movie</td><td> Released</td><td> English           </td><td>1.00e+08</td><td> 724459031.0</td><td>AU</td></tr>\n",
       "\t<tr><th scope=row>4</th><td>Mummies                    </td><td>01/05/2023 </td><td>70</td><td>Animation, Comedy, Family, Adventure, Fantasy</td><td>Through a series of unfortunate events, three mummies end up in present-day London and embark on a wacky and hilarious journey in search of an old ring belonging to the Royal Family, stolen by ambitious archaeologist Lord Carnaby.                                                                                                                                                                                                                                    </td><td>Óscar Barberán, Thut (voice), Ana Esther Alborg, Nefer (voice), Luis Pérez Reina, Carnaby (voice), María Luisa Solá, Madre (voice), Jaume Solà, Sekhem (voice), José Luis Mediavilla, Ed (voice), José Javier Serrano Rodríguez, Danny (voice), Aleix Estadella, Dennis (voice), María Moscardó, Usi (voice)   </td><td> Momias                    </td><td> Released</td><td> Spanish, Castilian</td><td>1.23e+07</td><td>  34200000.0</td><td>AU</td></tr>\n",
       "\t<tr><th scope=row>5</th><td>Supercell                  </td><td>03/17/2023 </td><td>61</td><td>Action                                       </td><td>Good-hearted teenager William always lived in hope of following in his late father’s footsteps and becoming a storm chaser. His father’s legacy has now been turned into a storm-chasing tourist business, managed by the greedy and reckless Zane Rogers, who is now using William as the main attraction to lead a group of unsuspecting adventurers deep into the eye of the most dangerous supercell ever seen.                                                       </td><td>Skeet Ulrich, Roy Cameron, Anne Heche, Dr Quinn Brody, Daniel Diemer, William Brody, Jordan Kristine Seamón, Harper Hunter, Alec Baldwin, Zane Rogers, Richard Gunn, Bill Brody, Praya Lundberg, Amy, Johnny Wactor, Martin, Anjul Nigam, Ramesh                                                               </td><td>Supercell                  </td><td> Released</td><td> English           </td><td>7.70e+07</td><td> 340941958.6</td><td>US</td></tr>\n",
       "\t<tr><th scope=row>6</th><td>Cocaine Bear               </td><td>02/23/2023 </td><td>66</td><td>Thriller, Comedy, Crime                      </td><td>Inspired by a true story, an oddball group of cops, criminals, tourists and teens converge in a Georgia forest where a 500-pound black bear goes on a murderous rampage after unintentionally ingesting cocaine.                                                                                                                                                                                                                                                          </td><td>Keri Russell, Sari, Alden Ehrenreich, Eddie, O'Shea Jackson Jr., Daveed, Ray Liotta, Syd, Kristofer Hivju, Olaf (Kristoffer), Margo Martindale, Ranger Liz, Christian Convery, Henry, Isiah Whitlock Jr., Bob, Jesse Tyler Ferguson, Peter                                                                     </td><td>Cocaine Bear               </td><td> Released</td><td> English           </td><td>3.50e+07</td><td>  80000000.0</td><td>AU</td></tr>\n",
       "</tbody>\n",
       "</table>\n"
      ],
      "text/latex": [
       "A data.frame: 6 × 12\n",
       "\\begin{tabular}{r|llllllllllll}\n",
       "  & names & date\\_x & score & genre & overview & crew & orig\\_title & status & orig\\_lang & budget\\_x & revenue & country\\\\\n",
       "  & <chr> & <chr> & <dbl> & <chr> & <chr> & <chr> & <chr> & <chr> & <chr> & <dbl> & <dbl> & <chr>\\\\\n",
       "\\hline\n",
       "\t1 & Creed III                   & 03/02/2023  & 73 & Drama, Action                                 & After dominating the boxing world, Adonis Creed has been thriving in both his career and family life. When a childhood friend and former boxing prodigy, Damien Anderson, resurfaces after serving a long sentence in prison, he is eager to prove that he deserves his shot in the ring. The face-off between former friends is more than just a fight. To settle the score, Adonis must put his future on the line to battle Damien — a fighter who has nothing to lose. & Michael B. Jordan, Adonis Creed, Tessa Thompson, Bianca Taylor, Jonathan Majors, Damien Anderson, Wood Harris, Tony 'Little Duke' Evers, Phylicia Rashād, Mary Anne Creed, Mila Davis-Kent, Amara Creed, Florian Munteanu, Viktor Drago, José Benavidez Jr., Felix Chavez, Selenis Leyva, Laura Chavez          & Creed III                   &  Released &  English            & 7.50e+07 &  271616668.0 & AU\\\\\n",
       "\t2 & Avatar: The Way of Water    & 12/15/2022  & 78 & Science Fiction, Adventure, Action            & Set more than a decade after the events of the first film, learn the story of the Sully family (Jake, Neytiri, and their kids), the trouble that follows them, the lengths they go to keep each other safe, the battles they fight to stay alive, and the tragedies they endure.                                                                                                                                                                                           & Sam Worthington, Jake Sully, Zoe Saldaña, Neytiri, Sigourney Weaver, Kiri / Dr. Grace Augustine, Stephen Lang, Colonel Miles Quaritch, Kate Winslet, Ronal, Cliff Curtis, Tonowari, Joel David Moore, Norm Spellman, CCH Pounder, Mo'at, Edie Falco, General Frances Ardmore                                    & Avatar: The Way of Water    &  Released &  English            & 4.60e+08 & 2316794914.0 & AU\\\\\n",
       "\t3 & The Super Mario Bros. Movie & 04/05/2023  & 76 & Animation, Adventure, Family, Fantasy, Comedy & While working underground to fix a water main, Brooklyn plumbers—and brothers—Mario and Luigi are transported down a mysterious pipe and wander into a magical new world. But when the brothers are separated, Mario embarks on an epic quest to find Luigi.                                                                                                                                                                                                               & Chris Pratt, Mario (voice), Anya Taylor-Joy, Princess Peach (voice), Charlie Day, Luigi (voice), Jack Black, Bowser (voice), Keegan-Michael Key, Toad (voice), Seth Rogen, Donkey Kong (voice), Fred Armisen, Cranky Kong (voice), Kevin Michael Richardson, Kamek (voice), Sebastian Maniscalco, Spike (voice) & The Super Mario Bros. Movie &  Released &  English            & 1.00e+08 &  724459031.0 & AU\\\\\n",
       "\t4 & Mummies                     & 01/05/2023  & 70 & Animation, Comedy, Family, Adventure, Fantasy & Through a series of unfortunate events, three mummies end up in present-day London and embark on a wacky and hilarious journey in search of an old ring belonging to the Royal Family, stolen by ambitious archaeologist Lord Carnaby.                                                                                                                                                                                                                                     & Óscar Barberán, Thut (voice), Ana Esther Alborg, Nefer (voice), Luis Pérez Reina, Carnaby (voice), María Luisa Solá, Madre (voice), Jaume Solà, Sekhem (voice), José Luis Mediavilla, Ed (voice), José Javier Serrano Rodríguez, Danny (voice), Aleix Estadella, Dennis (voice), María Moscardó, Usi (voice)    &  Momias                     &  Released &  Spanish, Castilian & 1.23e+07 &   34200000.0 & AU\\\\\n",
       "\t5 & Supercell                   & 03/17/2023  & 61 & Action                                        & Good-hearted teenager William always lived in hope of following in his late father’s footsteps and becoming a storm chaser. His father’s legacy has now been turned into a storm-chasing tourist business, managed by the greedy and reckless Zane Rogers, who is now using William as the main attraction to lead a group of unsuspecting adventurers deep into the eye of the most dangerous supercell ever seen.                                                        & Skeet Ulrich, Roy Cameron, Anne Heche, Dr Quinn Brody, Daniel Diemer, William Brody, Jordan Kristine Seamón, Harper Hunter, Alec Baldwin, Zane Rogers, Richard Gunn, Bill Brody, Praya Lundberg, Amy, Johnny Wactor, Martin, Anjul Nigam, Ramesh                                                                & Supercell                   &  Released &  English            & 7.70e+07 &  340941958.6 & US\\\\\n",
       "\t6 & Cocaine Bear                & 02/23/2023  & 66 & Thriller, Comedy, Crime                       & Inspired by a true story, an oddball group of cops, criminals, tourists and teens converge in a Georgia forest where a 500-pound black bear goes on a murderous rampage after unintentionally ingesting cocaine.                                                                                                                                                                                                                                                           & Keri Russell, Sari, Alden Ehrenreich, Eddie, O'Shea Jackson Jr., Daveed, Ray Liotta, Syd, Kristofer Hivju, Olaf (Kristoffer), Margo Martindale, Ranger Liz, Christian Convery, Henry, Isiah Whitlock Jr., Bob, Jesse Tyler Ferguson, Peter                                                                      & Cocaine Bear                &  Released &  English            & 3.50e+07 &   80000000.0 & AU\\\\\n",
       "\\end{tabular}\n"
      ],
      "text/markdown": [
       "\n",
       "A data.frame: 6 × 12\n",
       "\n",
       "| <!--/--> | names &lt;chr&gt; | date_x &lt;chr&gt; | score &lt;dbl&gt; | genre &lt;chr&gt; | overview &lt;chr&gt; | crew &lt;chr&gt; | orig_title &lt;chr&gt; | status &lt;chr&gt; | orig_lang &lt;chr&gt; | budget_x &lt;dbl&gt; | revenue &lt;dbl&gt; | country &lt;chr&gt; |\n",
       "|---|---|---|---|---|---|---|---|---|---|---|---|---|\n",
       "| 1 | Creed III                   | 03/02/2023  | 73 | Drama, Action                                 | After dominating the boxing world, Adonis Creed has been thriving in both his career and family life. When a childhood friend and former boxing prodigy, Damien Anderson, resurfaces after serving a long sentence in prison, he is eager to prove that he deserves his shot in the ring. The face-off between former friends is more than just a fight. To settle the score, Adonis must put his future on the line to battle Damien — a fighter who has nothing to lose. | Michael B. Jordan, Adonis Creed, Tessa Thompson, Bianca Taylor, Jonathan Majors, Damien Anderson, Wood Harris, Tony 'Little Duke' Evers, Phylicia Rashād, Mary Anne Creed, Mila Davis-Kent, Amara Creed, Florian Munteanu, Viktor Drago, José Benavidez Jr., Felix Chavez, Selenis Leyva, Laura Chavez          | Creed III                   |  Released |  English            | 7.50e+07 |  271616668.0 | AU |\n",
       "| 2 | Avatar: The Way of Water    | 12/15/2022  | 78 | Science Fiction, Adventure, Action            | Set more than a decade after the events of the first film, learn the story of the Sully family (Jake, Neytiri, and their kids), the trouble that follows them, the lengths they go to keep each other safe, the battles they fight to stay alive, and the tragedies they endure.                                                                                                                                                                                           | Sam Worthington, Jake Sully, Zoe Saldaña, Neytiri, Sigourney Weaver, Kiri / Dr. Grace Augustine, Stephen Lang, Colonel Miles Quaritch, Kate Winslet, Ronal, Cliff Curtis, Tonowari, Joel David Moore, Norm Spellman, CCH Pounder, Mo'at, Edie Falco, General Frances Ardmore                                    | Avatar: The Way of Water    |  Released |  English            | 4.60e+08 | 2316794914.0 | AU |\n",
       "| 3 | The Super Mario Bros. Movie | 04/05/2023  | 76 | Animation, Adventure, Family, Fantasy, Comedy | While working underground to fix a water main, Brooklyn plumbers—and brothers—Mario and Luigi are transported down a mysterious pipe and wander into a magical new world. But when the brothers are separated, Mario embarks on an epic quest to find Luigi.                                                                                                                                                                                                               | Chris Pratt, Mario (voice), Anya Taylor-Joy, Princess Peach (voice), Charlie Day, Luigi (voice), Jack Black, Bowser (voice), Keegan-Michael Key, Toad (voice), Seth Rogen, Donkey Kong (voice), Fred Armisen, Cranky Kong (voice), Kevin Michael Richardson, Kamek (voice), Sebastian Maniscalco, Spike (voice) | The Super Mario Bros. Movie |  Released |  English            | 1.00e+08 |  724459031.0 | AU |\n",
       "| 4 | Mummies                     | 01/05/2023  | 70 | Animation, Comedy, Family, Adventure, Fantasy | Through a series of unfortunate events, three mummies end up in present-day London and embark on a wacky and hilarious journey in search of an old ring belonging to the Royal Family, stolen by ambitious archaeologist Lord Carnaby.                                                                                                                                                                                                                                     | Óscar Barberán, Thut (voice), Ana Esther Alborg, Nefer (voice), Luis Pérez Reina, Carnaby (voice), María Luisa Solá, Madre (voice), Jaume Solà, Sekhem (voice), José Luis Mediavilla, Ed (voice), José Javier Serrano Rodríguez, Danny (voice), Aleix Estadella, Dennis (voice), María Moscardó, Usi (voice)    |  Momias                     |  Released |  Spanish, Castilian | 1.23e+07 |   34200000.0 | AU |\n",
       "| 5 | Supercell                   | 03/17/2023  | 61 | Action                                        | Good-hearted teenager William always lived in hope of following in his late father’s footsteps and becoming a storm chaser. His father’s legacy has now been turned into a storm-chasing tourist business, managed by the greedy and reckless Zane Rogers, who is now using William as the main attraction to lead a group of unsuspecting adventurers deep into the eye of the most dangerous supercell ever seen.                                                        | Skeet Ulrich, Roy Cameron, Anne Heche, Dr Quinn Brody, Daniel Diemer, William Brody, Jordan Kristine Seamón, Harper Hunter, Alec Baldwin, Zane Rogers, Richard Gunn, Bill Brody, Praya Lundberg, Amy, Johnny Wactor, Martin, Anjul Nigam, Ramesh                                                                | Supercell                   |  Released |  English            | 7.70e+07 |  340941958.6 | US |\n",
       "| 6 | Cocaine Bear                | 02/23/2023  | 66 | Thriller, Comedy, Crime                       | Inspired by a true story, an oddball group of cops, criminals, tourists and teens converge in a Georgia forest where a 500-pound black bear goes on a murderous rampage after unintentionally ingesting cocaine.                                                                                                                                                                                                                                                           | Keri Russell, Sari, Alden Ehrenreich, Eddie, O'Shea Jackson Jr., Daveed, Ray Liotta, Syd, Kristofer Hivju, Olaf (Kristoffer), Margo Martindale, Ranger Liz, Christian Convery, Henry, Isiah Whitlock Jr., Bob, Jesse Tyler Ferguson, Peter                                                                      | Cocaine Bear                |  Released |  English            | 3.50e+07 |   80000000.0 | AU |\n",
       "\n"
      ],
      "text/plain": [
       "  names                       date_x      score\n",
       "1 Creed III                   03/02/2023  73   \n",
       "2 Avatar: The Way of Water    12/15/2022  78   \n",
       "3 The Super Mario Bros. Movie 04/05/2023  76   \n",
       "4 Mummies                     01/05/2023  70   \n",
       "5 Supercell                   03/17/2023  61   \n",
       "6 Cocaine Bear                02/23/2023  66   \n",
       "  genre                                        \n",
       "1 Drama, Action                                \n",
       "2 Science Fiction, Adventure, Action           \n",
       "3 Animation, Adventure, Family, Fantasy, Comedy\n",
       "4 Animation, Comedy, Family, Adventure, Fantasy\n",
       "5 Action                                       \n",
       "6 Thriller, Comedy, Crime                      \n",
       "  overview                                                                                                                                                                                                                                                                                                                                                                                                                                                                  \n",
       "1 After dominating the boxing world, Adonis Creed has been thriving in both his career and family life. When a childhood friend and former boxing prodigy, Damien Anderson, resurfaces after serving a long sentence in prison, he is eager to prove that he deserves his shot in the ring. The face-off between former friends is more than just a fight. To settle the score, Adonis must put his future on the line to battle Damien — a fighter who has nothing to lose.\n",
       "2 Set more than a decade after the events of the first film, learn the story of the Sully family (Jake, Neytiri, and their kids), the trouble that follows them, the lengths they go to keep each other safe, the battles they fight to stay alive, and the tragedies they endure.                                                                                                                                                                                          \n",
       "3 While working underground to fix a water main, Brooklyn plumbers—and brothers—Mario and Luigi are transported down a mysterious pipe and wander into a magical new world. But when the brothers are separated, Mario embarks on an epic quest to find Luigi.                                                                                                                                                                                                              \n",
       "4 Through a series of unfortunate events, three mummies end up in present-day London and embark on a wacky and hilarious journey in search of an old ring belonging to the Royal Family, stolen by ambitious archaeologist Lord Carnaby.                                                                                                                                                                                                                                    \n",
       "5 Good-hearted teenager William always lived in hope of following in his late father’s footsteps and becoming a storm chaser. His father’s legacy has now been turned into a storm-chasing tourist business, managed by the greedy and reckless Zane Rogers, who is now using William as the main attraction to lead a group of unsuspecting adventurers deep into the eye of the most dangerous supercell ever seen.                                                       \n",
       "6 Inspired by a true story, an oddball group of cops, criminals, tourists and teens converge in a Georgia forest where a 500-pound black bear goes on a murderous rampage after unintentionally ingesting cocaine.                                                                                                                                                                                                                                                          \n",
       "  crew                                                                                                                                                                                                                                                                                                           \n",
       "1 Michael B. Jordan, Adonis Creed, Tessa Thompson, Bianca Taylor, Jonathan Majors, Damien Anderson, Wood Harris, Tony 'Little Duke' Evers, Phylicia Rashād, Mary Anne Creed, Mila Davis-Kent, Amara Creed, Florian Munteanu, Viktor Drago, José Benavidez Jr., Felix Chavez, Selenis Leyva, Laura Chavez         \n",
       "2 Sam Worthington, Jake Sully, Zoe Saldaña, Neytiri, Sigourney Weaver, Kiri / Dr. Grace Augustine, Stephen Lang, Colonel Miles Quaritch, Kate Winslet, Ronal, Cliff Curtis, Tonowari, Joel David Moore, Norm Spellman, CCH Pounder, Mo'at, Edie Falco, General Frances Ardmore                                   \n",
       "3 Chris Pratt, Mario (voice), Anya Taylor-Joy, Princess Peach (voice), Charlie Day, Luigi (voice), Jack Black, Bowser (voice), Keegan-Michael Key, Toad (voice), Seth Rogen, Donkey Kong (voice), Fred Armisen, Cranky Kong (voice), Kevin Michael Richardson, Kamek (voice), Sebastian Maniscalco, Spike (voice)\n",
       "4 Óscar Barberán, Thut (voice), Ana Esther Alborg, Nefer (voice), Luis Pérez Reina, Carnaby (voice), María Luisa Solá, Madre (voice), Jaume Solà, Sekhem (voice), José Luis Mediavilla, Ed (voice), José Javier Serrano Rodríguez, Danny (voice), Aleix Estadella, Dennis (voice), María Moscardó, Usi (voice)   \n",
       "5 Skeet Ulrich, Roy Cameron, Anne Heche, Dr Quinn Brody, Daniel Diemer, William Brody, Jordan Kristine Seamón, Harper Hunter, Alec Baldwin, Zane Rogers, Richard Gunn, Bill Brody, Praya Lundberg, Amy, Johnny Wactor, Martin, Anjul Nigam, Ramesh                                                               \n",
       "6 Keri Russell, Sari, Alden Ehrenreich, Eddie, O'Shea Jackson Jr., Daveed, Ray Liotta, Syd, Kristofer Hivju, Olaf (Kristoffer), Margo Martindale, Ranger Liz, Christian Convery, Henry, Isiah Whitlock Jr., Bob, Jesse Tyler Ferguson, Peter                                                                     \n",
       "  orig_title                  status    orig_lang           budget_x\n",
       "1 Creed III                    Released  English            7.50e+07\n",
       "2 Avatar: The Way of Water     Released  English            4.60e+08\n",
       "3 The Super Mario Bros. Movie  Released  English            1.00e+08\n",
       "4  Momias                      Released  Spanish, Castilian 1.23e+07\n",
       "5 Supercell                    Released  English            7.70e+07\n",
       "6 Cocaine Bear                 Released  English            3.50e+07\n",
       "  revenue      country\n",
       "1  271616668.0 AU     \n",
       "2 2316794914.0 AU     \n",
       "3  724459031.0 AU     \n",
       "4   34200000.0 AU     \n",
       "5  340941958.6 US     \n",
       "6   80000000.0 AU     "
      ]
     },
     "metadata": {},
     "output_type": "display_data"
    }
   ],
   "source": [
    "head(movies)"
   ]
  },
  {
   "cell_type": "markdown",
   "metadata": {
    "id": "yuknZKNr3F_i"
   },
   "source": [
    "Now, we have an issue where a movie may have multiple genres. For example, the first movie, Creed III, has a genre type of **both** Drama, Action. We will simply randomly pick one genre from each row, and let that be that."
   ]
  },
  {
   "cell_type": "code",
   "execution_count": 8,
   "metadata": {
    "id": "Mnlpyk179cLF"
   },
   "outputs": [
    {
     "data": {
      "text/html": [
       "10093"
      ],
      "text/latex": [
       "10093"
      ],
      "text/markdown": [
       "10093"
      ],
      "text/plain": [
       "[1] 10093"
      ]
     },
     "metadata": {},
     "output_type": "display_data"
    }
   ],
   "source": [
    "movies$genre <- sapply(strsplit(movies$genre, ','), function(x) sample(x, 1))\n",
    "\n",
    "nrow(movies)"
   ]
  },
  {
   "cell_type": "code",
   "execution_count": 9,
   "metadata": {
    "id": "ESAozE0J499i"
   },
   "outputs": [
    {
     "data": {
      "text/html": [
       "<style>\n",
       ".list-inline {list-style: none; margin:0; padding: 0}\n",
       ".list-inline>li {display: inline-block}\n",
       ".list-inline>li:not(:last-child)::after {content: \"\\00b7\"; padding: 0 .5ex}\n",
       "</style>\n",
       "<ol class=list-inline><li>' Action'</li><li>' Adventure'</li><li>' Animation'</li><li>' Comedy'</li><li>' Crime'</li><li>' Documentary'</li><li>' Drama'</li><li>' Family'</li><li>' Fantasy'</li><li>' History'</li><li>' Horror'</li><li>' Music'</li><li>' Mystery'</li><li>' Romance'</li><li>' Science Fiction'</li><li>' Thriller'</li><li>' TV Movie'</li><li>' War'</li><li>' Western'</li><li>'Action'</li><li>'Adventure'</li><li>'Animation'</li><li>'Comedy'</li><li>'Crime'</li><li>'Documentary'</li><li>'Drama'</li><li>'Family'</li><li>'Fantasy'</li><li>'History'</li><li>'Horror'</li><li>'Music'</li><li>'Mystery'</li><li>'Romance'</li><li>'Science Fiction'</li><li>'Thriller'</li><li>'TV Movie'</li><li>'War'</li><li>'Western'</li></ol>\n"
      ],
      "text/latex": [
       "\\begin{enumerate*}\n",
       "\\item ' Action'\n",
       "\\item ' Adventure'\n",
       "\\item ' Animation'\n",
       "\\item ' Comedy'\n",
       "\\item ' Crime'\n",
       "\\item ' Documentary'\n",
       "\\item ' Drama'\n",
       "\\item ' Family'\n",
       "\\item ' Fantasy'\n",
       "\\item ' History'\n",
       "\\item ' Horror'\n",
       "\\item ' Music'\n",
       "\\item ' Mystery'\n",
       "\\item ' Romance'\n",
       "\\item ' Science Fiction'\n",
       "\\item ' Thriller'\n",
       "\\item ' TV Movie'\n",
       "\\item ' War'\n",
       "\\item ' Western'\n",
       "\\item 'Action'\n",
       "\\item 'Adventure'\n",
       "\\item 'Animation'\n",
       "\\item 'Comedy'\n",
       "\\item 'Crime'\n",
       "\\item 'Documentary'\n",
       "\\item 'Drama'\n",
       "\\item 'Family'\n",
       "\\item 'Fantasy'\n",
       "\\item 'History'\n",
       "\\item 'Horror'\n",
       "\\item 'Music'\n",
       "\\item 'Mystery'\n",
       "\\item 'Romance'\n",
       "\\item 'Science Fiction'\n",
       "\\item 'Thriller'\n",
       "\\item 'TV Movie'\n",
       "\\item 'War'\n",
       "\\item 'Western'\n",
       "\\end{enumerate*}\n"
      ],
      "text/markdown": [
       "1. ' Action'\n",
       "2. ' Adventure'\n",
       "3. ' Animation'\n",
       "4. ' Comedy'\n",
       "5. ' Crime'\n",
       "6. ' Documentary'\n",
       "7. ' Drama'\n",
       "8. ' Family'\n",
       "9. ' Fantasy'\n",
       "10. ' History'\n",
       "11. ' Horror'\n",
       "12. ' Music'\n",
       "13. ' Mystery'\n",
       "14. ' Romance'\n",
       "15. ' Science Fiction'\n",
       "16. ' Thriller'\n",
       "17. ' TV Movie'\n",
       "18. ' War'\n",
       "19. ' Western'\n",
       "20. 'Action'\n",
       "21. 'Adventure'\n",
       "22. 'Animation'\n",
       "23. 'Comedy'\n",
       "24. 'Crime'\n",
       "25. 'Documentary'\n",
       "26. 'Drama'\n",
       "27. 'Family'\n",
       "28. 'Fantasy'\n",
       "29. 'History'\n",
       "30. 'Horror'\n",
       "31. 'Music'\n",
       "32. 'Mystery'\n",
       "33. 'Romance'\n",
       "34. 'Science Fiction'\n",
       "35. 'Thriller'\n",
       "36. 'TV Movie'\n",
       "37. 'War'\n",
       "38. 'Western'\n",
       "\n",
       "\n"
      ],
      "text/plain": [
       " [1] \" Action\"          \" Adventure\"       \" Animation\"       \" Comedy\"         \n",
       " [5] \" Crime\"           \" Documentary\"     \" Drama\"           \" Family\"         \n",
       " [9] \" Fantasy\"         \" History\"         \" Horror\"          \" Music\"          \n",
       "[13] \" Mystery\"         \" Romance\"         \" Science Fiction\" \" Thriller\"       \n",
       "[17] \" TV Movie\"        \" War\"             \" Western\"         \"Action\"          \n",
       "[21] \"Adventure\"        \"Animation\"        \"Comedy\"           \"Crime\"           \n",
       "[25] \"Documentary\"      \"Drama\"            \"Family\"           \"Fantasy\"         \n",
       "[29] \"History\"          \"Horror\"           \"Music\"            \"Mystery\"         \n",
       "[33] \"Romance\"          \"Science Fiction\"  \"Thriller\"         \"TV Movie\"        \n",
       "[37] \"War\"              \"Western\"         "
      ]
     },
     "metadata": {},
     "output_type": "display_data"
    }
   ],
   "source": [
    "sort(unique(movies$genre))"
   ]
  },
  {
   "cell_type": "markdown",
   "metadata": {
    "id": "1fXEiIb1_MCa"
   },
   "source": [
    "As you can see, we have repeated values."
   ]
  },
  {
   "cell_type": "code",
   "execution_count": 10,
   "metadata": {
    "id": "ri2fLWNH8R2E"
   },
   "outputs": [
    {
     "data": {
      "text/html": [
       "<style>\n",
       ".list-inline {list-style: none; margin:0; padding: 0}\n",
       ".list-inline>li {display: inline-block}\n",
       ".list-inline>li:not(:last-child)::after {content: \"\\00b7\"; padding: 0 .5ex}\n",
       "</style>\n",
       "<ol class=list-inline><li>''</li><li>'Action'</li><li>'Adventure'</li><li>'Animation'</li><li>'Comedy'</li><li>'Crime'</li><li>'Documentary'</li><li>'Drama'</li><li>'Family'</li><li>'Fantasy'</li><li>'History'</li><li>'Horror'</li><li>'Music'</li><li>'Mystery'</li><li>'Romance'</li><li>'Science Fiction'</li><li>'Thriller'</li><li>'War'</li><li>'Western'</li></ol>\n"
      ],
      "text/latex": [
       "\\begin{enumerate*}\n",
       "\\item ''\n",
       "\\item 'Action'\n",
       "\\item 'Adventure'\n",
       "\\item 'Animation'\n",
       "\\item 'Comedy'\n",
       "\\item 'Crime'\n",
       "\\item 'Documentary'\n",
       "\\item 'Drama'\n",
       "\\item 'Family'\n",
       "\\item 'Fantasy'\n",
       "\\item 'History'\n",
       "\\item 'Horror'\n",
       "\\item 'Music'\n",
       "\\item 'Mystery'\n",
       "\\item 'Romance'\n",
       "\\item 'Science Fiction'\n",
       "\\item 'Thriller'\n",
       "\\item 'War'\n",
       "\\item 'Western'\n",
       "\\end{enumerate*}\n"
      ],
      "text/markdown": [
       "1. ''\n",
       "2. 'Action'\n",
       "3. 'Adventure'\n",
       "4. 'Animation'\n",
       "5. 'Comedy'\n",
       "6. 'Crime'\n",
       "7. 'Documentary'\n",
       "8. 'Drama'\n",
       "9. 'Family'\n",
       "10. 'Fantasy'\n",
       "11. 'History'\n",
       "12. 'Horror'\n",
       "13. 'Music'\n",
       "14. 'Mystery'\n",
       "15. 'Romance'\n",
       "16. 'Science Fiction'\n",
       "17. 'Thriller'\n",
       "18. 'War'\n",
       "19. 'Western'\n",
       "\n",
       "\n"
      ],
      "text/plain": [
       " [1] \"\"                \"Action\"          \"Adventure\"       \"Animation\"      \n",
       " [5] \"Comedy\"          \"Crime\"           \"Documentary\"     \"Drama\"          \n",
       " [9] \"Family\"          \"Fantasy\"         \"History\"         \"Horror\"         \n",
       "[13] \"Music\"           \"Mystery\"         \"Romance\"         \"Science Fiction\"\n",
       "[17] \"Thriller\"        \"War\"             \"Western\"        "
      ]
     },
     "metadata": {},
     "output_type": "display_data"
    }
   ],
   "source": [
    "sort(unique(filtered_df$genre))"
   ]
  },
  {
   "cell_type": "code",
   "execution_count": 11,
   "metadata": {
    "id": "5XtM9FKm492w"
   },
   "outputs": [],
   "source": [
    "unique_genres <- unique(filtered_df$genre)\n",
    "unique_genres <- unique_genres[unique_genres != \"\"]\n",
    "\n",
    "for (item in unique_genres) {\n",
    "  movies$genre[grepl(item, movies$genre)] <- item\n",
    "}\n",
    "\n",
    "\n",
    "# keyword <- \"Action\"\n",
    "# replacement <- \"Action\"\n",
    "\n",
    "# movies$genre[grepl(keyword, movies$genre)] <- replacement\n",
    "\n"
   ]
  },
  {
   "cell_type": "code",
   "execution_count": 12,
   "metadata": {
    "id": "E-jUoBTs4-An"
   },
   "outputs": [
    {
     "data": {
      "text/html": [
       "<style>\n",
       ".list-inline {list-style: none; margin:0; padding: 0}\n",
       ".list-inline>li {display: inline-block}\n",
       ".list-inline>li:not(:last-child)::after {content: \"\\00b7\"; padding: 0 .5ex}\n",
       "</style>\n",
       "<ol class=list-inline><li>'Drama'</li><li>'Action'</li><li>'Family'</li><li>'Comedy'</li><li>'Thriller'</li><li>'Fantasy'</li><li>'Science Fiction'</li><li>'Horror'</li><li>'Adventure'</li><li>'History'</li><li>'War'</li><li>'Mystery'</li><li>'Documentary'</li><li>'Crime'</li><li>'Romance'</li><li>'Animation'</li><li>'Music'</li><li>' TV Movie'</li><li>'Western'</li><li>'TV Movie'</li></ol>\n"
      ],
      "text/latex": [
       "\\begin{enumerate*}\n",
       "\\item 'Drama'\n",
       "\\item 'Action'\n",
       "\\item 'Family'\n",
       "\\item 'Comedy'\n",
       "\\item 'Thriller'\n",
       "\\item 'Fantasy'\n",
       "\\item 'Science Fiction'\n",
       "\\item 'Horror'\n",
       "\\item 'Adventure'\n",
       "\\item 'History'\n",
       "\\item 'War'\n",
       "\\item 'Mystery'\n",
       "\\item 'Documentary'\n",
       "\\item 'Crime'\n",
       "\\item 'Romance'\n",
       "\\item 'Animation'\n",
       "\\item 'Music'\n",
       "\\item ' TV Movie'\n",
       "\\item 'Western'\n",
       "\\item 'TV Movie'\n",
       "\\end{enumerate*}\n"
      ],
      "text/markdown": [
       "1. 'Drama'\n",
       "2. 'Action'\n",
       "3. 'Family'\n",
       "4. 'Comedy'\n",
       "5. 'Thriller'\n",
       "6. 'Fantasy'\n",
       "7. 'Science Fiction'\n",
       "8. 'Horror'\n",
       "9. 'Adventure'\n",
       "10. 'History'\n",
       "11. 'War'\n",
       "12. 'Mystery'\n",
       "13. 'Documentary'\n",
       "14. 'Crime'\n",
       "15. 'Romance'\n",
       "16. 'Animation'\n",
       "17. 'Music'\n",
       "18. ' TV Movie'\n",
       "19. 'Western'\n",
       "20. 'TV Movie'\n",
       "\n",
       "\n"
      ],
      "text/plain": [
       " [1] \"Drama\"           \"Action\"          \"Family\"          \"Comedy\"         \n",
       " [5] \"Thriller\"        \"Fantasy\"         \"Science Fiction\" \"Horror\"         \n",
       " [9] \"Adventure\"       \"History\"         \"War\"             \"Mystery\"        \n",
       "[13] \"Documentary\"     \"Crime\"           \"Romance\"         \"Animation\"      \n",
       "[17] \"Music\"           \" TV Movie\"       \"Western\"         \"TV Movie\"       "
      ]
     },
     "metadata": {},
     "output_type": "display_data"
    }
   ],
   "source": [
    "unique(movies$genre)"
   ]
  },
  {
   "cell_type": "markdown",
   "metadata": {
    "id": "WVHHZ6lR32h0"
   },
   "source": [
    "Great! Now the genre of each movie only has one word, not multiple. Notice that we stil have 10,093 rows.  "
   ]
  },
  {
   "cell_type": "code",
   "execution_count": 13,
   "metadata": {
    "id": "3aOxF1f7i4np"
   },
   "outputs": [
    {
     "data": {
      "text/html": [
       "<table class=\"dataframe\">\n",
       "<caption>A tibble: 20 × 2</caption>\n",
       "<thead>\n",
       "\t<tr><th scope=col>genre</th><th scope=col>count</th></tr>\n",
       "\t<tr><th scope=col>&lt;chr&gt;</th><th scope=col>&lt;int&gt;</th></tr>\n",
       "</thead>\n",
       "<tbody>\n",
       "\t<tr><td>Action         </td><td> 939</td></tr>\n",
       "\t<tr><td>Adventure      </td><td> 578</td></tr>\n",
       "\t<tr><td>Animation      </td><td> 467</td></tr>\n",
       "\t<tr><td>Comedy         </td><td>1285</td></tr>\n",
       "\t<tr><td>Crime          </td><td> 454</td></tr>\n",
       "\t<tr><td>Documentary    </td><td> 180</td></tr>\n",
       "\t<tr><td>Drama          </td><td>1800</td></tr>\n",
       "\t<tr><td>Family         </td><td> 409</td></tr>\n",
       "\t<tr><td>Fantasy        </td><td> 407</td></tr>\n",
       "\t<tr><td>History        </td><td> 166</td></tr>\n",
       "\t<tr><td>Horror         </td><td> 774</td></tr>\n",
       "\t<tr><td>Music          </td><td>  93</td></tr>\n",
       "\t<tr><td>Mystery        </td><td> 264</td></tr>\n",
       "\t<tr><td>Romance        </td><td> 678</td></tr>\n",
       "\t<tr><td>Science Fiction</td><td> 407</td></tr>\n",
       "\t<tr><td>TV Movie       </td><td>   9</td></tr>\n",
       "\t<tr><td>Thriller       </td><td> 977</td></tr>\n",
       "\t<tr><td>War            </td><td>  86</td></tr>\n",
       "\t<tr><td>Western        </td><td>  69</td></tr>\n",
       "\t<tr><td> TV Movie      </td><td>  51</td></tr>\n",
       "</tbody>\n",
       "</table>\n"
      ],
      "text/latex": [
       "A tibble: 20 × 2\n",
       "\\begin{tabular}{ll}\n",
       " genre & count\\\\\n",
       " <chr> & <int>\\\\\n",
       "\\hline\n",
       "\t Action          &  939\\\\\n",
       "\t Adventure       &  578\\\\\n",
       "\t Animation       &  467\\\\\n",
       "\t Comedy          & 1285\\\\\n",
       "\t Crime           &  454\\\\\n",
       "\t Documentary     &  180\\\\\n",
       "\t Drama           & 1800\\\\\n",
       "\t Family          &  409\\\\\n",
       "\t Fantasy         &  407\\\\\n",
       "\t History         &  166\\\\\n",
       "\t Horror          &  774\\\\\n",
       "\t Music           &   93\\\\\n",
       "\t Mystery         &  264\\\\\n",
       "\t Romance         &  678\\\\\n",
       "\t Science Fiction &  407\\\\\n",
       "\t TV Movie        &    9\\\\\n",
       "\t Thriller        &  977\\\\\n",
       "\t War             &   86\\\\\n",
       "\t Western         &   69\\\\\n",
       "\t  TV Movie       &   51\\\\\n",
       "\\end{tabular}\n"
      ],
      "text/markdown": [
       "\n",
       "A tibble: 20 × 2\n",
       "\n",
       "| genre &lt;chr&gt; | count &lt;int&gt; |\n",
       "|---|---|\n",
       "| Action          |  939 |\n",
       "| Adventure       |  578 |\n",
       "| Animation       |  467 |\n",
       "| Comedy          | 1285 |\n",
       "| Crime           |  454 |\n",
       "| Documentary     |  180 |\n",
       "| Drama           | 1800 |\n",
       "| Family          |  409 |\n",
       "| Fantasy         |  407 |\n",
       "| History         |  166 |\n",
       "| Horror          |  774 |\n",
       "| Music           |   93 |\n",
       "| Mystery         |  264 |\n",
       "| Romance         |  678 |\n",
       "| Science Fiction |  407 |\n",
       "| TV Movie        |    9 |\n",
       "| Thriller        |  977 |\n",
       "| War             |   86 |\n",
       "| Western         |   69 |\n",
       "|  TV Movie       |   51 |\n",
       "\n"
      ],
      "text/plain": [
       "   genre           count\n",
       "1  Action           939 \n",
       "2  Adventure        578 \n",
       "3  Animation        467 \n",
       "4  Comedy          1285 \n",
       "5  Crime            454 \n",
       "6  Documentary      180 \n",
       "7  Drama           1800 \n",
       "8  Family           409 \n",
       "9  Fantasy          407 \n",
       "10 History          166 \n",
       "11 Horror           774 \n",
       "12 Music             93 \n",
       "13 Mystery          264 \n",
       "14 Romance          678 \n",
       "15 Science Fiction  407 \n",
       "16 TV Movie           9 \n",
       "17 Thriller         977 \n",
       "18 War               86 \n",
       "19 Western           69 \n",
       "20  TV Movie         51 "
      ]
     },
     "metadata": {},
     "output_type": "display_data"
    }
   ],
   "source": [
    "group_by(movies, genre) |>\n",
    "  summarize(count = n())"
   ]
  },
  {
   "cell_type": "markdown",
   "metadata": {
    "id": "LjvOJNMo_rd_"
   },
   "source": [
    "We need to manually address \"TV Movie\", as it was not included in our unique_genres list."
   ]
  },
  {
   "cell_type": "code",
   "execution_count": 14,
   "metadata": {
    "id": "ERt2-KSl_xZq"
   },
   "outputs": [],
   "source": [
    "movies$genre[grepl(\"TV Movie\", movies$genre)] <- \"TV Movie\"\n"
   ]
  },
  {
   "cell_type": "code",
   "execution_count": 15,
   "metadata": {
    "id": "iS50QmnO_qm2"
   },
   "outputs": [
    {
     "data": {
      "text/html": [
       "<table class=\"dataframe\">\n",
       "<caption>A tibble: 19 × 2</caption>\n",
       "<thead>\n",
       "\t<tr><th scope=col>genre</th><th scope=col>count</th></tr>\n",
       "\t<tr><th scope=col>&lt;chr&gt;</th><th scope=col>&lt;int&gt;</th></tr>\n",
       "</thead>\n",
       "<tbody>\n",
       "\t<tr><td>TV Movie       </td><td>  60</td></tr>\n",
       "\t<tr><td>Western        </td><td>  69</td></tr>\n",
       "\t<tr><td>War            </td><td>  86</td></tr>\n",
       "\t<tr><td>Music          </td><td>  93</td></tr>\n",
       "\t<tr><td>History        </td><td> 166</td></tr>\n",
       "\t<tr><td>Documentary    </td><td> 180</td></tr>\n",
       "\t<tr><td>Mystery        </td><td> 264</td></tr>\n",
       "\t<tr><td>Fantasy        </td><td> 407</td></tr>\n",
       "\t<tr><td>Science Fiction</td><td> 407</td></tr>\n",
       "\t<tr><td>Family         </td><td> 409</td></tr>\n",
       "\t<tr><td>Crime          </td><td> 454</td></tr>\n",
       "\t<tr><td>Animation      </td><td> 467</td></tr>\n",
       "\t<tr><td>Adventure      </td><td> 578</td></tr>\n",
       "\t<tr><td>Romance        </td><td> 678</td></tr>\n",
       "\t<tr><td>Horror         </td><td> 774</td></tr>\n",
       "\t<tr><td>Action         </td><td> 939</td></tr>\n",
       "\t<tr><td>Thriller       </td><td> 977</td></tr>\n",
       "\t<tr><td>Comedy         </td><td>1285</td></tr>\n",
       "\t<tr><td>Drama          </td><td>1800</td></tr>\n",
       "</tbody>\n",
       "</table>\n"
      ],
      "text/latex": [
       "A tibble: 19 × 2\n",
       "\\begin{tabular}{ll}\n",
       " genre & count\\\\\n",
       " <chr> & <int>\\\\\n",
       "\\hline\n",
       "\t TV Movie        &   60\\\\\n",
       "\t Western         &   69\\\\\n",
       "\t War             &   86\\\\\n",
       "\t Music           &   93\\\\\n",
       "\t History         &  166\\\\\n",
       "\t Documentary     &  180\\\\\n",
       "\t Mystery         &  264\\\\\n",
       "\t Fantasy         &  407\\\\\n",
       "\t Science Fiction &  407\\\\\n",
       "\t Family          &  409\\\\\n",
       "\t Crime           &  454\\\\\n",
       "\t Animation       &  467\\\\\n",
       "\t Adventure       &  578\\\\\n",
       "\t Romance         &  678\\\\\n",
       "\t Horror          &  774\\\\\n",
       "\t Action          &  939\\\\\n",
       "\t Thriller        &  977\\\\\n",
       "\t Comedy          & 1285\\\\\n",
       "\t Drama           & 1800\\\\\n",
       "\\end{tabular}\n"
      ],
      "text/markdown": [
       "\n",
       "A tibble: 19 × 2\n",
       "\n",
       "| genre &lt;chr&gt; | count &lt;int&gt; |\n",
       "|---|---|\n",
       "| TV Movie        |   60 |\n",
       "| Western         |   69 |\n",
       "| War             |   86 |\n",
       "| Music           |   93 |\n",
       "| History         |  166 |\n",
       "| Documentary     |  180 |\n",
       "| Mystery         |  264 |\n",
       "| Fantasy         |  407 |\n",
       "| Science Fiction |  407 |\n",
       "| Family          |  409 |\n",
       "| Crime           |  454 |\n",
       "| Animation       |  467 |\n",
       "| Adventure       |  578 |\n",
       "| Romance         |  678 |\n",
       "| Horror          |  774 |\n",
       "| Action          |  939 |\n",
       "| Thriller        |  977 |\n",
       "| Comedy          | 1285 |\n",
       "| Drama           | 1800 |\n",
       "\n"
      ],
      "text/plain": [
       "   genre           count\n",
       "1  TV Movie          60 \n",
       "2  Western           69 \n",
       "3  War               86 \n",
       "4  Music             93 \n",
       "5  History          166 \n",
       "6  Documentary      180 \n",
       "7  Mystery          264 \n",
       "8  Fantasy          407 \n",
       "9  Science Fiction  407 \n",
       "10 Family           409 \n",
       "11 Crime            454 \n",
       "12 Animation        467 \n",
       "13 Adventure        578 \n",
       "14 Romance          678 \n",
       "15 Horror           774 \n",
       "16 Action           939 \n",
       "17 Thriller         977 \n",
       "18 Comedy          1285 \n",
       "19 Drama           1800 "
      ]
     },
     "metadata": {},
     "output_type": "display_data"
    }
   ],
   "source": [
    "genre_count <- group_by(movies, genre) %>%\n",
    "  summarize(count = n())\n",
    "\n",
    "genre_count <- genre_count[order(genre_count$count), ]\n",
    "genre_count"
   ]
  },
  {
   "cell_type": "markdown",
   "metadata": {
    "id": "5hDwjf8taUXc"
   },
   "source": [
    "# Say we demand an accuracy of +- 4.0% points, 19 times out of 20.\n",
    "(This suggests a moe of 0.04, and a 95% CI)."
   ]
  },
  {
   "cell_type": "code",
   "execution_count": 16,
   "metadata": {
    "id": "LeA22JGsPYua"
   },
   "outputs": [
    {
     "data": {
      "text/html": [
       "10093"
      ],
      "text/latex": [
       "10093"
      ],
      "text/markdown": [
       "10093"
      ],
      "text/plain": [
       "[1] 10093"
      ]
     },
     "metadata": {},
     "output_type": "display_data"
    }
   ],
   "source": [
    "nrow(movies)"
   ]
  },
  {
   "cell_type": "code",
   "execution_count": 17,
   "metadata": {
    "id": "zIXTcq9_6GFZ"
   },
   "outputs": [
    {
     "data": {
      "text/html": [
       "0.541167145546418"
      ],
      "text/latex": [
       "0.541167145546418"
      ],
      "text/markdown": [
       "0.541167145546418"
      ],
      "text/plain": [
       "[1] 0.541167145546418"
      ]
     },
     "metadata": {},
     "output_type": "display_data"
    }
   ],
   "source": [
    "p <- mean(movies$score >= 65)\n",
    "p"
   ]
  },
  {
   "cell_type": "code",
   "execution_count": 18,
   "metadata": {
    "id": "vy714gAo7-nP"
   },
   "outputs": [
    {
     "data": {
      "text/html": [
       "0.24830526612756"
      ],
      "text/latex": [
       "0.24830526612756"
      ],
      "text/markdown": [
       "0.24830526612756"
      ],
      "text/plain": [
       "[1] 0.24830526612756"
      ]
     },
     "metadata": {},
     "output_type": "display_data"
    }
   ],
   "source": [
    "s_2 = p*(1 - p )\n",
    "s_2"
   ]
  },
  {
   "cell_type": "code",
   "execution_count": 19,
   "metadata": {
    "id": "BTJF6P1hrB9F"
   },
   "outputs": [
    {
     "data": {
      "text/html": [
       "0.04"
      ],
      "text/latex": [
       "0.04"
      ],
      "text/markdown": [
       "0.04"
      ],
      "text/plain": [
       "[1] 0.04"
      ]
     },
     "metadata": {},
     "output_type": "display_data"
    }
   ],
   "source": [
    "moe <- 0.04\n",
    "moe"
   ]
  },
  {
   "cell_type": "code",
   "execution_count": 20,
   "metadata": {
    "id": "AgTrn6xy8Q8c"
   },
   "outputs": [
    {
     "data": {
      "text/html": [
       "596.180943972272"
      ],
      "text/latex": [
       "596.180943972272"
      ],
      "text/markdown": [
       "596.180943972272"
      ],
      "text/plain": [
       "[1] 596.180943972272"
      ]
     },
     "metadata": {},
     "output_type": "display_data"
    }
   ],
   "source": [
    "# May need to change s_2 to 0.5 depending on requirements.\n",
    "\n",
    "n = 1.96^2 * s_2 / moe^2\n",
    "n"
   ]
  },
  {
   "cell_type": "code",
   "execution_count": 21,
   "metadata": {
    "id": "IM-RTGsQTNpe"
   },
   "outputs": [
    {
     "data": {
      "text/html": [
       "562.929404886286"
      ],
      "text/latex": [
       "562.929404886286"
      ],
      "text/markdown": [
       "562.929404886286"
      ],
      "text/plain": [
       "[1] 562.929404886286"
      ]
     },
     "metadata": {},
     "output_type": "display_data"
    }
   ],
   "source": [
    "n_star = n / (1 + n/nrow(movies))\n",
    "\n",
    "n_star"
   ]
  },
  {
   "cell_type": "code",
   "execution_count": 22,
   "metadata": {
    "id": "8n3qHc4EXTdc"
   },
   "outputs": [
    {
     "data": {
      "text/html": [
       "563"
      ],
      "text/latex": [
       "563"
      ],
      "text/markdown": [
       "563"
      ],
      "text/plain": [
       "[1] 563"
      ]
     },
     "metadata": {},
     "output_type": "display_data"
    }
   ],
   "source": [
    "n_star = ceiling(n_star)\n",
    "n_star"
   ]
  },
  {
   "cell_type": "markdown",
   "metadata": {
    "id": "FbuvSuxUfe4S"
   },
   "source": [
    "# SRS"
   ]
  },
  {
   "cell_type": "code",
   "execution_count": 23,
   "metadata": {
    "id": "e7Y4WaPjDlQk"
   },
   "outputs": [],
   "source": [
    "# Get a simple random sample (SRS) of size 563\n",
    "srs <- sample_n(movies, size = n_star)"
   ]
  },
  {
   "cell_type": "markdown",
   "metadata": {
    "id": "hmabMyMCD4sy"
   },
   "source": [
    "#### SRS Calculation for Average Score of Movie (Parameter 1)"
   ]
  },
  {
   "cell_type": "code",
   "execution_count": 24,
   "metadata": {
    "id": "Gz4UILdeffrY"
   },
   "outputs": [
    {
     "name": "stdout",
     "output_type": "stream",
     "text": [
      "[1] \"The average score of movies from a SRS of size 563 is  64.2291296625222\"\n",
      "[1] \"The standard error of movies score from a SRS of size 563 is  0.519996819207333\"\n",
      "[1] \"Our 95% confidence interval for mean score of a SRS sample of size 563 has an lower bound of  63.2099358968758  and an upper bound of  65.2483234281686\"\n"
     ]
    }
   ],
   "source": [
    "# Calculate the average score and its standard error\n",
    "average_score_srs <- mean(srs$score)\n",
    "std_error_srs <- sd(srs$score) / sqrt(nrow(srs)) * sqrt((1-nrow(srs)/nrow(movies)))\n",
    "\n",
    "\n",
    "# Print the average score and its standard error\n",
    "print(paste(\"The average score of movies from a SRS of size 563 is \" , average_score_srs))\n",
    "print(paste(\"The standard error of movies score from a SRS of size 563 is \" , std_error_srs))\n",
    "\n",
    "# 95% Confidence Interval Calculation\n",
    "lowerBound_srs <- average_score_srs - 1.96 * std_error_srs\n",
    "upperBound_srs <- average_score_srs + 1.96 * std_error_srs\n",
    "print(paste(\"Our 95% confidence interval for mean score of a SRS sample of size 563 has an lower bound of \", lowerBound_srs, \" and an upper bound of \", upperBound_srs))"
   ]
  },
  {
   "cell_type": "markdown",
   "metadata": {
    "id": "s5xsjUBEFVPD"
   },
   "source": [
    "#### SRS Calculation for Proportion of Movies with Score above 65 (Parameter 2)"
   ]
  },
  {
   "cell_type": "code",
   "execution_count": 25,
   "metadata": {
    "id": "JVBRTiYAgBav"
   },
   "outputs": [
    {
     "name": "stdout",
     "output_type": "stream",
     "text": [
      "[1] \"The sample proportion of movies with a score over 65 from a SRS of size 563 is  0.49911190053286\"\n",
      "[1] \"The standard error of the sample proportion of movies with a score over 65 from a SRS of size 563 is  0.0204762977235707\"\n",
      "[1] \"Our 95% confidence interval for sample proportion of movies with a score over 65 from a SRS sample of size 563 has an lower bound of 63.2099358968758 and an upper bound of 65.2483234281686\"\n"
     ]
    }
   ],
   "source": [
    "above65_SRS <- srs %>% filter(score > 65)\n",
    "\n",
    "proportionAbove65_SRS <- nrow(above65_SRS) / nrow(srs)\n",
    "SE_proportion_srs <- sqrt(proportionAbove65_SRS * (1-proportionAbove65_SRS) / nrow(srs)) * sqrt((1-nrow(srs)/nrow(movies)))\n",
    "\n",
    "# Print the average score and its standard error\n",
    "print(paste(\"The sample proportion of movies with a score over 65 from a SRS of size 563 is \" , proportionAbove65_SRS))\n",
    "print(paste(\"The standard error of the sample proportion of movies with a score over 65 from a SRS of size 563 is \" , SE_proportion_srs))\n",
    "\n",
    "\n",
    "# 95% Confidence Interval Calculation\n",
    "lowerBound_srs_proportion <- proportionAbove65_SRS - 1.96 * SE_proportion_srs\n",
    "upperBound_srs_proportion <- proportionAbove65_SRS + 1.96 * SE_proportion_srs\n",
    "print(paste(\"Our 95% confidence interval for sample proportion of movies with a score over 65 from a SRS sample of size 563 has an lower bound of\", lowerBound_srs, \"and an upper bound of\", upperBound_srs))"
   ]
  },
  {
   "cell_type": "markdown",
   "metadata": {
    "id": "_y2dM_s8gMAU"
   },
   "source": [
    "# Stratified Sampling"
   ]
  },
  {
   "cell_type": "code",
   "execution_count": 26,
   "metadata": {
    "id": "kyjsYFBUltF4"
   },
   "outputs": [
    {
     "data": {
      "text/html": [
       "<style>\n",
       ".list-inline {list-style: none; margin:0; padding: 0}\n",
       ".list-inline>li {display: inline-block}\n",
       ".list-inline>li:not(:last-child)::after {content: \"\\00b7\"; padding: 0 .5ex}\n",
       "</style>\n",
       "<ol class=list-inline><li>'Drama'</li><li>'Action'</li><li>'Family'</li><li>'Comedy'</li><li>'Thriller'</li><li>'Fantasy'</li><li>'Science Fiction'</li><li>'Horror'</li><li>'Adventure'</li><li>'History'</li><li>'War'</li><li>'Mystery'</li><li>'Documentary'</li><li>'Crime'</li><li>'Romance'</li><li>'Animation'</li><li>'Music'</li><li>'TV Movie'</li><li>'Western'</li></ol>\n"
      ],
      "text/latex": [
       "\\begin{enumerate*}\n",
       "\\item 'Drama'\n",
       "\\item 'Action'\n",
       "\\item 'Family'\n",
       "\\item 'Comedy'\n",
       "\\item 'Thriller'\n",
       "\\item 'Fantasy'\n",
       "\\item 'Science Fiction'\n",
       "\\item 'Horror'\n",
       "\\item 'Adventure'\n",
       "\\item 'History'\n",
       "\\item 'War'\n",
       "\\item 'Mystery'\n",
       "\\item 'Documentary'\n",
       "\\item 'Crime'\n",
       "\\item 'Romance'\n",
       "\\item 'Animation'\n",
       "\\item 'Music'\n",
       "\\item 'TV Movie'\n",
       "\\item 'Western'\n",
       "\\end{enumerate*}\n"
      ],
      "text/markdown": [
       "1. 'Drama'\n",
       "2. 'Action'\n",
       "3. 'Family'\n",
       "4. 'Comedy'\n",
       "5. 'Thriller'\n",
       "6. 'Fantasy'\n",
       "7. 'Science Fiction'\n",
       "8. 'Horror'\n",
       "9. 'Adventure'\n",
       "10. 'History'\n",
       "11. 'War'\n",
       "12. 'Mystery'\n",
       "13. 'Documentary'\n",
       "14. 'Crime'\n",
       "15. 'Romance'\n",
       "16. 'Animation'\n",
       "17. 'Music'\n",
       "18. 'TV Movie'\n",
       "19. 'Western'\n",
       "\n",
       "\n"
      ],
      "text/plain": [
       " [1] \"Drama\"           \"Action\"          \"Family\"          \"Comedy\"         \n",
       " [5] \"Thriller\"        \"Fantasy\"         \"Science Fiction\" \"Horror\"         \n",
       " [9] \"Adventure\"       \"History\"         \"War\"             \"Mystery\"        \n",
       "[13] \"Documentary\"     \"Crime\"           \"Romance\"         \"Animation\"      \n",
       "[17] \"Music\"           \"TV Movie\"        \"Western\"        "
      ]
     },
     "metadata": {},
     "output_type": "display_data"
    },
    {
     "data": {
      "text/html": [
       "19"
      ],
      "text/latex": [
       "19"
      ],
      "text/markdown": [
       "19"
      ],
      "text/plain": [
       "[1] 19"
      ]
     },
     "metadata": {},
     "output_type": "display_data"
    }
   ],
   "source": [
    "unique(movies$genre)\n",
    "\n",
    "length(unique(movies$genre))"
   ]
  },
  {
   "cell_type": "markdown",
   "metadata": {
    "id": "RDj-CT2PlvQc"
   },
   "source": [
    "For the context of stratified sampling, we are going to assume that in the process of data collection, the guessed variance and cost of sampling **are equal across all strata**.\n",
    "This means we can exercise proportional allocation, where the optimal choices of sample sizes for each strata is nh = n x Nh/N"
   ]
  },
  {
   "cell_type": "code",
   "execution_count": 27,
   "metadata": {
    "id": "9jj5fCjllxGR"
   },
   "outputs": [
    {
     "data": {
      "text/html": [
       "<table class=\"dataframe\">\n",
       "<caption>A tibble: 6 × 3</caption>\n",
       "<thead>\n",
       "\t<tr><th scope=col>genre</th><th scope=col>Nh</th><th scope=col>nh</th></tr>\n",
       "\t<tr><th scope=col>&lt;chr&gt;</th><th scope=col>&lt;int&gt;</th><th scope=col>&lt;dbl&gt;</th></tr>\n",
       "</thead>\n",
       "<tbody>\n",
       "\t<tr><td>TV Movie   </td><td> 60</td><td> 3</td></tr>\n",
       "\t<tr><td>Western    </td><td> 69</td><td> 4</td></tr>\n",
       "\t<tr><td>War        </td><td> 86</td><td> 5</td></tr>\n",
       "\t<tr><td>Music      </td><td> 93</td><td> 5</td></tr>\n",
       "\t<tr><td>History    </td><td>166</td><td> 9</td></tr>\n",
       "\t<tr><td>Documentary</td><td>180</td><td>10</td></tr>\n",
       "</tbody>\n",
       "</table>\n"
      ],
      "text/latex": [
       "A tibble: 6 × 3\n",
       "\\begin{tabular}{lll}\n",
       " genre & Nh & nh\\\\\n",
       " <chr> & <int> & <dbl>\\\\\n",
       "\\hline\n",
       "\t TV Movie    &  60 &  3\\\\\n",
       "\t Western     &  69 &  4\\\\\n",
       "\t War         &  86 &  5\\\\\n",
       "\t Music       &  93 &  5\\\\\n",
       "\t History     & 166 &  9\\\\\n",
       "\t Documentary & 180 & 10\\\\\n",
       "\\end{tabular}\n"
      ],
      "text/markdown": [
       "\n",
       "A tibble: 6 × 3\n",
       "\n",
       "| genre &lt;chr&gt; | Nh &lt;int&gt; | nh &lt;dbl&gt; |\n",
       "|---|---|---|\n",
       "| TV Movie    |  60 |  3 |\n",
       "| Western     |  69 |  4 |\n",
       "| War         |  86 |  5 |\n",
       "| Music       |  93 |  5 |\n",
       "| History     | 166 |  9 |\n",
       "| Documentary | 180 | 10 |\n",
       "\n"
      ],
      "text/plain": [
       "  genre       Nh  nh\n",
       "1 TV Movie     60  3\n",
       "2 Western      69  4\n",
       "3 War          86  5\n",
       "4 Music        93  5\n",
       "5 History     166  9\n",
       "6 Documentary 180 10"
      ]
     },
     "metadata": {},
     "output_type": "display_data"
    }
   ],
   "source": [
    "names(genre_count)[names(genre_count) == \"count\"] <- \"Nh\"\n",
    "\n",
    "\n",
    "genre_count <- genre_count %>% mutate(nh = round(n_star * Nh / nrow(movies)))\n",
    "head(genre_count)"
   ]
  },
  {
   "cell_type": "code",
   "execution_count": 28,
   "metadata": {
    "id": "eU-blseTBi9w"
   },
   "outputs": [
    {
     "data": {
      "text/html": [
       "<table class=\"dataframe\">\n",
       "<caption>A data.frame: 6 × 12</caption>\n",
       "<thead>\n",
       "\t<tr><th></th><th scope=col>names</th><th scope=col>date_x</th><th scope=col>score</th><th scope=col>genre</th><th scope=col>overview</th><th scope=col>crew</th><th scope=col>orig_title</th><th scope=col>status</th><th scope=col>orig_lang</th><th scope=col>budget_x</th><th scope=col>revenue</th><th scope=col>country</th></tr>\n",
       "\t<tr><th></th><th scope=col>&lt;chr&gt;</th><th scope=col>&lt;chr&gt;</th><th scope=col>&lt;dbl&gt;</th><th scope=col>&lt;chr&gt;</th><th scope=col>&lt;chr&gt;</th><th scope=col>&lt;chr&gt;</th><th scope=col>&lt;chr&gt;</th><th scope=col>&lt;chr&gt;</th><th scope=col>&lt;chr&gt;</th><th scope=col>&lt;dbl&gt;</th><th scope=col>&lt;dbl&gt;</th><th scope=col>&lt;chr&gt;</th></tr>\n",
       "</thead>\n",
       "<tbody>\n",
       "\t<tr><th scope=row>30</th><td>The Death of the Incredible Hulk</td><td>02/18/1990 </td><td>50</td><td>TV Movie</td><td>During the critical experiment that would rid David Banner of the Hulk,a spy sabotages the laboratory. Banner falls in love with the spy, Jasmin, who performs missions only because her sister is being held hostage by Jasmin's superiors. Banner and Jasmin try to escape from the enemy agents to rebuild their lives together, but the Hulk is never far from them.                                                 </td><td>Bill Bixby, Dr. David Bruce Banner, Lou Ferrigno, The Hulk, Elizabeth Gracen, Jasmin, Philip Sterling, Dr Ronald Pratt, Barbara Tarbuck, Amy Pratt, Anna Katarina, Bella / Voshenko, John Novak, Zed, Andreas Katsulas, Kasha, Chilton Crane, Betty                                                                                                                      </td><td>The Death of the Incredible Hulk</td><td> Released</td><td> English</td><td>139200000</td><td>398272687.8</td><td>US</td></tr>\n",
       "\t<tr><th scope=row>19</th><td>Bad Sister                      </td><td>08/24/2015 </td><td>68</td><td>TV Movie</td><td>As a top student at St. Adeline's Catholic Boarding School, Zoe senses that something is not quite right about the school's new nun-- a sense proven to be true when it is revealed the \"good' nun is an imposter with a fatal attraction to Zoe's brother.                                                                                                                                                              </td><td>Alyshia Ochse, Laura, Devon Werkheiser, Jason, Ryan Whitney Newman, Zoe, Helen Eigenberg, Sister Rebecca, Robert Leeshock, David, Lise Simms, Cheryl, Sloane Avery, Sara, Hugh Holub, Father Macey, Josh Plasse, Chris                                                                                                                                                   </td><td>Bad Sister                      </td><td> Released</td><td> English</td><td> 77400000</td><td>428263992.8</td><td>CA</td></tr>\n",
       "\t<tr><th scope=row>36</th><td>Teen Titans: Trouble in Tokyo   </td><td>09/15/2006 </td><td>77</td><td>TV Movie</td><td>America's coolest heroes, the Teen Titans, go to Tokyo to track down the mysterious Japanese criminal Brushogun.                                                                                                                                                                                                                                                                                                         </td><td>Greg Cipes, Beast Boy (voice), Scott Menville, Robin / Japanese Boy (voice), Khary Payton, Cyborg (voice), Tara Strong, Raven / Computer (voice), Hynden Walch, Starfire / Mecha-Boi (voice), Robert Ito, Mayor / Bookseller (voice), Janice Kawaye, Nya-Nya / Timoko (voice), Yuri Lowenthal, Scarface / Japanese Biker (voice), Cary-Hiroyuki Tagawa, Brushogun (voice)</td><td>Teen Titans: Trouble in Tokyo   </td><td> Released</td><td> English</td><td>151000000</td><td>867111926.4</td><td>US</td></tr>\n",
       "\t<tr><th scope=row>1</th><td>The Last Manhunt                </td><td>01/01/2023 </td><td>56</td><td>Western </td><td>In 1909, Willie Boy and his love Carlota go on the run after he accidentally shoots her father in a confrontation gone terribly wrong. With President Taft coming to the area, the local sheriff leads two Native American trackers seeking justice for their “murdered” tribal leader.                                                                                                                                  </td><td>Martin Sensmeier, Willie Boy, Mainei Kinimaka, Carlotta, Jason Momoa, Big Jim, Zahn McClarnon, William Johnson, Lily Gladstone, Maria, Raoul Max Trujillo, Hyde, Brandon Oakes, Segundo, Christian Camargo, Sheriff Wilson, Wade Williams, Reche                                                                                                                         </td><td>The Last Manhunt                </td><td> Released</td><td> English</td><td> 80300000</td><td>321306715.6</td><td>AU</td></tr>\n",
       "\t<tr><th scope=row>6</th><td>Desperate Riders                </td><td>02/25/2022 </td><td>61</td><td>Western </td><td>After Kansas Red rescues young Billy from a card-game shootout, the boy asks Red for help protecting his family from the outlaw Thorn, who’s just kidnapped Billy’s mother, Carol. As Red and Billy ride off to rescue Carol, they run into beautiful, tough-as-nails Leslie, who’s managed to escape Thorn’s men. The three race to stop Thorn’s wedding to Carol with guns a-blazing - but does she want to be rescued?</td><td>Drew Waters, Kansas Red, Trace Adkins, Thorn, Tom Berenger, Doc Tillman, Vanessa Evigan, Leslie, Sam Ashby, Billy, Victoria Pratt, Carol, Cowboy Troy, Finnegan, Rob Mayes, Deputy Harris, Peter Sherayko, Linstrom                                                                                                                                                      </td><td>Desperate Riders                </td><td> Released</td><td> English</td><td> 88600000</td><td>899820065.0</td><td>US</td></tr>\n",
       "\t<tr><th scope=row>45</th><td>Mackenna's Gold                 </td><td>05/09/1969 </td><td>66</td><td>Western </td><td>A bandit kidnaps a Marshal who has seen a map showing a gold vein on Indian lands, but other groups are looking for it too, while the Apache try to keep the secret location undisturbed.                                                                                                                                                                                                                                </td><td>Gregory Peck, Marshal MacKenna, Omar Sharif, Colorado, Camilla Sparv, Inga Bergmann, Julie Newmar, Hesh-Ke, Telly Savalas, Sergeant Tibbs, Keenan Wynn, Sanchez, Ted Cassidy, Hachita, Lee J. Cobb, The Editor, Raymond Massey, The Preacher                                                                                                                             </td><td>Mackenna's Gold                 </td><td> Released</td><td> English</td><td>  7000000</td><td>277238035.8</td><td>US</td></tr>\n",
       "</tbody>\n",
       "</table>\n"
      ],
      "text/latex": [
       "A data.frame: 6 × 12\n",
       "\\begin{tabular}{r|llllllllllll}\n",
       "  & names & date\\_x & score & genre & overview & crew & orig\\_title & status & orig\\_lang & budget\\_x & revenue & country\\\\\n",
       "  & <chr> & <chr> & <dbl> & <chr> & <chr> & <chr> & <chr> & <chr> & <chr> & <dbl> & <dbl> & <chr>\\\\\n",
       "\\hline\n",
       "\t30 & The Death of the Incredible Hulk & 02/18/1990  & 50 & TV Movie & During the critical experiment that would rid David Banner of the Hulk,a spy sabotages the laboratory. Banner falls in love with the spy, Jasmin, who performs missions only because her sister is being held hostage by Jasmin's superiors. Banner and Jasmin try to escape from the enemy agents to rebuild their lives together, but the Hulk is never far from them.                                                  & Bill Bixby, Dr. David Bruce Banner, Lou Ferrigno, The Hulk, Elizabeth Gracen, Jasmin, Philip Sterling, Dr Ronald Pratt, Barbara Tarbuck, Amy Pratt, Anna Katarina, Bella / Voshenko, John Novak, Zed, Andreas Katsulas, Kasha, Chilton Crane, Betty                                                                                                                       & The Death of the Incredible Hulk &  Released &  English & 139200000 & 398272687.8 & US\\\\\n",
       "\t19 & Bad Sister                       & 08/24/2015  & 68 & TV Movie & As a top student at St. Adeline's Catholic Boarding School, Zoe senses that something is not quite right about the school's new nun-- a sense proven to be true when it is revealed the \"good' nun is an imposter with a fatal attraction to Zoe's brother.                                                                                                                                                               & Alyshia Ochse, Laura, Devon Werkheiser, Jason, Ryan Whitney Newman, Zoe, Helen Eigenberg, Sister Rebecca, Robert Leeshock, David, Lise Simms, Cheryl, Sloane Avery, Sara, Hugh Holub, Father Macey, Josh Plasse, Chris                                                                                                                                                    & Bad Sister                       &  Released &  English &  77400000 & 428263992.8 & CA\\\\\n",
       "\t36 & Teen Titans: Trouble in Tokyo    & 09/15/2006  & 77 & TV Movie & America's coolest heroes, the Teen Titans, go to Tokyo to track down the mysterious Japanese criminal Brushogun.                                                                                                                                                                                                                                                                                                          & Greg Cipes, Beast Boy (voice), Scott Menville, Robin / Japanese Boy (voice), Khary Payton, Cyborg (voice), Tara Strong, Raven / Computer (voice), Hynden Walch, Starfire / Mecha-Boi (voice), Robert Ito, Mayor / Bookseller (voice), Janice Kawaye, Nya-Nya / Timoko (voice), Yuri Lowenthal, Scarface / Japanese Biker (voice), Cary-Hiroyuki Tagawa, Brushogun (voice) & Teen Titans: Trouble in Tokyo    &  Released &  English & 151000000 & 867111926.4 & US\\\\\n",
       "\t1 & The Last Manhunt                 & 01/01/2023  & 56 & Western  & In 1909, Willie Boy and his love Carlota go on the run after he accidentally shoots her father in a confrontation gone terribly wrong. With President Taft coming to the area, the local sheriff leads two Native American trackers seeking justice for their “murdered” tribal leader.                                                                                                                                   & Martin Sensmeier, Willie Boy, Mainei Kinimaka, Carlotta, Jason Momoa, Big Jim, Zahn McClarnon, William Johnson, Lily Gladstone, Maria, Raoul Max Trujillo, Hyde, Brandon Oakes, Segundo, Christian Camargo, Sheriff Wilson, Wade Williams, Reche                                                                                                                          & The Last Manhunt                 &  Released &  English &  80300000 & 321306715.6 & AU\\\\\n",
       "\t6 & Desperate Riders                 & 02/25/2022  & 61 & Western  & After Kansas Red rescues young Billy from a card-game shootout, the boy asks Red for help protecting his family from the outlaw Thorn, who’s just kidnapped Billy’s mother, Carol. As Red and Billy ride off to rescue Carol, they run into beautiful, tough-as-nails Leslie, who’s managed to escape Thorn’s men. The three race to stop Thorn’s wedding to Carol with guns a-blazing - but does she want to be rescued? & Drew Waters, Kansas Red, Trace Adkins, Thorn, Tom Berenger, Doc Tillman, Vanessa Evigan, Leslie, Sam Ashby, Billy, Victoria Pratt, Carol, Cowboy Troy, Finnegan, Rob Mayes, Deputy Harris, Peter Sherayko, Linstrom                                                                                                                                                       & Desperate Riders                 &  Released &  English &  88600000 & 899820065.0 & US\\\\\n",
       "\t45 & Mackenna's Gold                  & 05/09/1969  & 66 & Western  & A bandit kidnaps a Marshal who has seen a map showing a gold vein on Indian lands, but other groups are looking for it too, while the Apache try to keep the secret location undisturbed.                                                                                                                                                                                                                                 & Gregory Peck, Marshal MacKenna, Omar Sharif, Colorado, Camilla Sparv, Inga Bergmann, Julie Newmar, Hesh-Ke, Telly Savalas, Sergeant Tibbs, Keenan Wynn, Sanchez, Ted Cassidy, Hachita, Lee J. Cobb, The Editor, Raymond Massey, The Preacher                                                                                                                              & Mackenna's Gold                  &  Released &  English &   7000000 & 277238035.8 & US\\\\\n",
       "\\end{tabular}\n"
      ],
      "text/markdown": [
       "\n",
       "A data.frame: 6 × 12\n",
       "\n",
       "| <!--/--> | names &lt;chr&gt; | date_x &lt;chr&gt; | score &lt;dbl&gt; | genre &lt;chr&gt; | overview &lt;chr&gt; | crew &lt;chr&gt; | orig_title &lt;chr&gt; | status &lt;chr&gt; | orig_lang &lt;chr&gt; | budget_x &lt;dbl&gt; | revenue &lt;dbl&gt; | country &lt;chr&gt; |\n",
       "|---|---|---|---|---|---|---|---|---|---|---|---|---|\n",
       "| 30 | The Death of the Incredible Hulk | 02/18/1990  | 50 | TV Movie | During the critical experiment that would rid David Banner of the Hulk,a spy sabotages the laboratory. Banner falls in love with the spy, Jasmin, who performs missions only because her sister is being held hostage by Jasmin's superiors. Banner and Jasmin try to escape from the enemy agents to rebuild their lives together, but the Hulk is never far from them.                                                  | Bill Bixby, Dr. David Bruce Banner, Lou Ferrigno, The Hulk, Elizabeth Gracen, Jasmin, Philip Sterling, Dr Ronald Pratt, Barbara Tarbuck, Amy Pratt, Anna Katarina, Bella / Voshenko, John Novak, Zed, Andreas Katsulas, Kasha, Chilton Crane, Betty                                                                                                                       | The Death of the Incredible Hulk |  Released |  English | 139200000 | 398272687.8 | US |\n",
       "| 19 | Bad Sister                       | 08/24/2015  | 68 | TV Movie | As a top student at St. Adeline's Catholic Boarding School, Zoe senses that something is not quite right about the school's new nun-- a sense proven to be true when it is revealed the \"good' nun is an imposter with a fatal attraction to Zoe's brother.                                                                                                                                                               | Alyshia Ochse, Laura, Devon Werkheiser, Jason, Ryan Whitney Newman, Zoe, Helen Eigenberg, Sister Rebecca, Robert Leeshock, David, Lise Simms, Cheryl, Sloane Avery, Sara, Hugh Holub, Father Macey, Josh Plasse, Chris                                                                                                                                                    | Bad Sister                       |  Released |  English |  77400000 | 428263992.8 | CA |\n",
       "| 36 | Teen Titans: Trouble in Tokyo    | 09/15/2006  | 77 | TV Movie | America's coolest heroes, the Teen Titans, go to Tokyo to track down the mysterious Japanese criminal Brushogun.                                                                                                                                                                                                                                                                                                          | Greg Cipes, Beast Boy (voice), Scott Menville, Robin / Japanese Boy (voice), Khary Payton, Cyborg (voice), Tara Strong, Raven / Computer (voice), Hynden Walch, Starfire / Mecha-Boi (voice), Robert Ito, Mayor / Bookseller (voice), Janice Kawaye, Nya-Nya / Timoko (voice), Yuri Lowenthal, Scarface / Japanese Biker (voice), Cary-Hiroyuki Tagawa, Brushogun (voice) | Teen Titans: Trouble in Tokyo    |  Released |  English | 151000000 | 867111926.4 | US |\n",
       "| 1 | The Last Manhunt                 | 01/01/2023  | 56 | Western  | In 1909, Willie Boy and his love Carlota go on the run after he accidentally shoots her father in a confrontation gone terribly wrong. With President Taft coming to the area, the local sheriff leads two Native American trackers seeking justice for their “murdered” tribal leader.                                                                                                                                   | Martin Sensmeier, Willie Boy, Mainei Kinimaka, Carlotta, Jason Momoa, Big Jim, Zahn McClarnon, William Johnson, Lily Gladstone, Maria, Raoul Max Trujillo, Hyde, Brandon Oakes, Segundo, Christian Camargo, Sheriff Wilson, Wade Williams, Reche                                                                                                                          | The Last Manhunt                 |  Released |  English |  80300000 | 321306715.6 | AU |\n",
       "| 6 | Desperate Riders                 | 02/25/2022  | 61 | Western  | After Kansas Red rescues young Billy from a card-game shootout, the boy asks Red for help protecting his family from the outlaw Thorn, who’s just kidnapped Billy’s mother, Carol. As Red and Billy ride off to rescue Carol, they run into beautiful, tough-as-nails Leslie, who’s managed to escape Thorn’s men. The three race to stop Thorn’s wedding to Carol with guns a-blazing - but does she want to be rescued? | Drew Waters, Kansas Red, Trace Adkins, Thorn, Tom Berenger, Doc Tillman, Vanessa Evigan, Leslie, Sam Ashby, Billy, Victoria Pratt, Carol, Cowboy Troy, Finnegan, Rob Mayes, Deputy Harris, Peter Sherayko, Linstrom                                                                                                                                                       | Desperate Riders                 |  Released |  English |  88600000 | 899820065.0 | US |\n",
       "| 45 | Mackenna's Gold                  | 05/09/1969  | 66 | Western  | A bandit kidnaps a Marshal who has seen a map showing a gold vein on Indian lands, but other groups are looking for it too, while the Apache try to keep the secret location undisturbed.                                                                                                                                                                                                                                 | Gregory Peck, Marshal MacKenna, Omar Sharif, Colorado, Camilla Sparv, Inga Bergmann, Julie Newmar, Hesh-Ke, Telly Savalas, Sergeant Tibbs, Keenan Wynn, Sanchez, Ted Cassidy, Hachita, Lee J. Cobb, The Editor, Raymond Massey, The Preacher                                                                                                                              | Mackenna's Gold                  |  Released |  English |   7000000 | 277238035.8 | US |\n",
       "\n"
      ],
      "text/plain": [
       "   names                            date_x      score genre   \n",
       "30 The Death of the Incredible Hulk 02/18/1990  50    TV Movie\n",
       "19 Bad Sister                       08/24/2015  68    TV Movie\n",
       "36 Teen Titans: Trouble in Tokyo    09/15/2006  77    TV Movie\n",
       "1  The Last Manhunt                 01/01/2023  56    Western \n",
       "6  Desperate Riders                 02/25/2022  61    Western \n",
       "45 Mackenna's Gold                  05/09/1969  66    Western \n",
       "   overview                                                                                                                                                                                                                                                                                                                                                                                                                 \n",
       "30 During the critical experiment that would rid David Banner of the Hulk,a spy sabotages the laboratory. Banner falls in love with the spy, Jasmin, who performs missions only because her sister is being held hostage by Jasmin's superiors. Banner and Jasmin try to escape from the enemy agents to rebuild their lives together, but the Hulk is never far from them.                                                 \n",
       "19 As a top student at St. Adeline's Catholic Boarding School, Zoe senses that something is not quite right about the school's new nun-- a sense proven to be true when it is revealed the \"good' nun is an imposter with a fatal attraction to Zoe's brother.                                                                                                                                                              \n",
       "36 America's coolest heroes, the Teen Titans, go to Tokyo to track down the mysterious Japanese criminal Brushogun.                                                                                                                                                                                                                                                                                                         \n",
       "1  In 1909, Willie Boy and his love Carlota go on the run after he accidentally shoots her father in a confrontation gone terribly wrong. With President Taft coming to the area, the local sheriff leads two Native American trackers seeking justice for their “murdered” tribal leader.                                                                                                                                  \n",
       "6  After Kansas Red rescues young Billy from a card-game shootout, the boy asks Red for help protecting his family from the outlaw Thorn, who’s just kidnapped Billy’s mother, Carol. As Red and Billy ride off to rescue Carol, they run into beautiful, tough-as-nails Leslie, who’s managed to escape Thorn’s men. The three race to stop Thorn’s wedding to Carol with guns a-blazing - but does she want to be rescued?\n",
       "45 A bandit kidnaps a Marshal who has seen a map showing a gold vein on Indian lands, but other groups are looking for it too, while the Apache try to keep the secret location undisturbed.                                                                                                                                                                                                                                \n",
       "   crew                                                                                                                                                                                                                                                                                                                                                                     \n",
       "30 Bill Bixby, Dr. David Bruce Banner, Lou Ferrigno, The Hulk, Elizabeth Gracen, Jasmin, Philip Sterling, Dr Ronald Pratt, Barbara Tarbuck, Amy Pratt, Anna Katarina, Bella / Voshenko, John Novak, Zed, Andreas Katsulas, Kasha, Chilton Crane, Betty                                                                                                                      \n",
       "19 Alyshia Ochse, Laura, Devon Werkheiser, Jason, Ryan Whitney Newman, Zoe, Helen Eigenberg, Sister Rebecca, Robert Leeshock, David, Lise Simms, Cheryl, Sloane Avery, Sara, Hugh Holub, Father Macey, Josh Plasse, Chris                                                                                                                                                   \n",
       "36 Greg Cipes, Beast Boy (voice), Scott Menville, Robin / Japanese Boy (voice), Khary Payton, Cyborg (voice), Tara Strong, Raven / Computer (voice), Hynden Walch, Starfire / Mecha-Boi (voice), Robert Ito, Mayor / Bookseller (voice), Janice Kawaye, Nya-Nya / Timoko (voice), Yuri Lowenthal, Scarface / Japanese Biker (voice), Cary-Hiroyuki Tagawa, Brushogun (voice)\n",
       "1  Martin Sensmeier, Willie Boy, Mainei Kinimaka, Carlotta, Jason Momoa, Big Jim, Zahn McClarnon, William Johnson, Lily Gladstone, Maria, Raoul Max Trujillo, Hyde, Brandon Oakes, Segundo, Christian Camargo, Sheriff Wilson, Wade Williams, Reche                                                                                                                         \n",
       "6  Drew Waters, Kansas Red, Trace Adkins, Thorn, Tom Berenger, Doc Tillman, Vanessa Evigan, Leslie, Sam Ashby, Billy, Victoria Pratt, Carol, Cowboy Troy, Finnegan, Rob Mayes, Deputy Harris, Peter Sherayko, Linstrom                                                                                                                                                      \n",
       "45 Gregory Peck, Marshal MacKenna, Omar Sharif, Colorado, Camilla Sparv, Inga Bergmann, Julie Newmar, Hesh-Ke, Telly Savalas, Sergeant Tibbs, Keenan Wynn, Sanchez, Ted Cassidy, Hachita, Lee J. Cobb, The Editor, Raymond Massey, The Preacher                                                                                                                             \n",
       "   orig_title                       status    orig_lang budget_x  revenue    \n",
       "30 The Death of the Incredible Hulk  Released  English  139200000 398272687.8\n",
       "19 Bad Sister                        Released  English   77400000 428263992.8\n",
       "36 Teen Titans: Trouble in Tokyo     Released  English  151000000 867111926.4\n",
       "1  The Last Manhunt                  Released  English   80300000 321306715.6\n",
       "6  Desperate Riders                  Released  English   88600000 899820065.0\n",
       "45 Mackenna's Gold                   Released  English    7000000 277238035.8\n",
       "   country\n",
       "30 US     \n",
       "19 CA     \n",
       "36 US     \n",
       "1  AU     \n",
       "6  US     \n",
       "45 US     "
      ]
     },
     "metadata": {},
     "output_type": "display_data"
    }
   ],
   "source": [
    "stratified_data <- data.frame()\n",
    "\n",
    "\n",
    "for (n in 1:length(genre_count$genre)){\n",
    "    filteredData <- filter(movies,genre == genre_count$genre[n])\n",
    "    sampledData <- filteredData[sample(nrow(filteredData), genre_count$nh[n]), ]\n",
    "    stratified_data <- rbind(stratified_data, sampledData)\n",
    "}\n",
    "\n",
    "head(stratified_data)"
   ]
  },
  {
   "cell_type": "markdown",
   "metadata": {
    "id": "H_10A1SdmPOI"
   },
   "source": [
    "# Stratified Sampling (Parameter 1: Mean Score of Movie)"
   ]
  },
  {
   "cell_type": "code",
   "execution_count": 29,
   "metadata": {
    "id": "kvOHrSialmyJ"
   },
   "outputs": [
    {
     "data": {
      "text/html": [
       "<table class=\"dataframe\">\n",
       "<caption>A tibble: 19 × 5</caption>\n",
       "<thead>\n",
       "\t<tr><th scope=col>genre</th><th scope=col>ysh</th><th scope=col>sd_score</th><th scope=col>nh</th><th scope=col>Nh</th></tr>\n",
       "\t<tr><th scope=col>&lt;chr&gt;</th><th scope=col>&lt;dbl&gt;</th><th scope=col>&lt;dbl&gt;</th><th scope=col>&lt;int&gt;</th><th scope=col>&lt;int&gt;</th></tr>\n",
       "</thead>\n",
       "<tbody>\n",
       "\t<tr><td>TV Movie       </td><td>65.0000000000000</td><td>13.74772708486752</td><td>  3</td><td>  60</td></tr>\n",
       "\t<tr><td>Western        </td><td>61.7500000000000</td><td> 4.34932945023330</td><td>  4</td><td>  69</td></tr>\n",
       "\t<tr><td>Music          </td><td>70.0000000000000</td><td> 2.54950975679639</td><td>  5</td><td>  86</td></tr>\n",
       "\t<tr><td>War            </td><td>64.8000000000000</td><td> 6.97853852894716</td><td>  5</td><td>  93</td></tr>\n",
       "\t<tr><td>History        </td><td>70.6666666666667</td><td> 6.36396103067893</td><td>  9</td><td> 166</td></tr>\n",
       "\t<tr><td>Documentary    </td><td>64.1000000000000</td><td>24.50600833355862</td><td> 10</td><td> 180</td></tr>\n",
       "\t<tr><td>Mystery        </td><td>62.4666666666667</td><td> 8.95119039702595</td><td> 15</td><td> 264</td></tr>\n",
       "\t<tr><td>Family         </td><td>66.0434782608696</td><td> 6.66386634203492</td><td> 23</td><td> 407</td></tr>\n",
       "\t<tr><td>Fantasy        </td><td>67.5652173913043</td><td> 9.71795941429401</td><td> 23</td><td> 407</td></tr>\n",
       "\t<tr><td>Science Fiction</td><td>62.5652173913044</td><td>10.38716903840556</td><td> 23</td><td> 409</td></tr>\n",
       "\t<tr><td>Crime          </td><td>65.6000000000000</td><td> 8.26639784509150</td><td> 25</td><td> 454</td></tr>\n",
       "\t<tr><td>Animation      </td><td>69.2692307692308</td><td> 5.71004512982300</td><td> 26</td><td> 467</td></tr>\n",
       "\t<tr><td>Adventure      </td><td>63.4062500000000</td><td>14.19190904205860</td><td> 32</td><td> 578</td></tr>\n",
       "\t<tr><td>Romance        </td><td>62.2105263157895</td><td>17.54092957988019</td><td> 38</td><td> 678</td></tr>\n",
       "\t<tr><td>Horror         </td><td>57.9534883720930</td><td>12.20451416947667</td><td> 43</td><td> 774</td></tr>\n",
       "\t<tr><td>Action         </td><td>62.9807692307692</td><td> 7.69896958884857</td><td> 52</td><td> 939</td></tr>\n",
       "\t<tr><td>Thriller       </td><td>62.5555555555556</td><td> 9.71997877679698</td><td> 54</td><td> 977</td></tr>\n",
       "\t<tr><td>Comedy         </td><td>61.1388888888889</td><td>15.64600075396631</td><td> 72</td><td>1285</td></tr>\n",
       "\t<tr><td>Drama          </td><td>67.2700000000000</td><td>15.82279074849652</td><td>100</td><td>1800</td></tr>\n",
       "</tbody>\n",
       "</table>\n"
      ],
      "text/latex": [
       "A tibble: 19 × 5\n",
       "\\begin{tabular}{lllll}\n",
       " genre & ysh & sd\\_score & nh & Nh\\\\\n",
       " <chr> & <dbl> & <dbl> & <int> & <int>\\\\\n",
       "\\hline\n",
       "\t TV Movie        & 65.0000000000000 & 13.74772708486752 &   3 &   60\\\\\n",
       "\t Western         & 61.7500000000000 &  4.34932945023330 &   4 &   69\\\\\n",
       "\t Music           & 70.0000000000000 &  2.54950975679639 &   5 &   86\\\\\n",
       "\t War             & 64.8000000000000 &  6.97853852894716 &   5 &   93\\\\\n",
       "\t History         & 70.6666666666667 &  6.36396103067893 &   9 &  166\\\\\n",
       "\t Documentary     & 64.1000000000000 & 24.50600833355862 &  10 &  180\\\\\n",
       "\t Mystery         & 62.4666666666667 &  8.95119039702595 &  15 &  264\\\\\n",
       "\t Family          & 66.0434782608696 &  6.66386634203492 &  23 &  407\\\\\n",
       "\t Fantasy         & 67.5652173913043 &  9.71795941429401 &  23 &  407\\\\\n",
       "\t Science Fiction & 62.5652173913044 & 10.38716903840556 &  23 &  409\\\\\n",
       "\t Crime           & 65.6000000000000 &  8.26639784509150 &  25 &  454\\\\\n",
       "\t Animation       & 69.2692307692308 &  5.71004512982300 &  26 &  467\\\\\n",
       "\t Adventure       & 63.4062500000000 & 14.19190904205860 &  32 &  578\\\\\n",
       "\t Romance         & 62.2105263157895 & 17.54092957988019 &  38 &  678\\\\\n",
       "\t Horror          & 57.9534883720930 & 12.20451416947667 &  43 &  774\\\\\n",
       "\t Action          & 62.9807692307692 &  7.69896958884857 &  52 &  939\\\\\n",
       "\t Thriller        & 62.5555555555556 &  9.71997877679698 &  54 &  977\\\\\n",
       "\t Comedy          & 61.1388888888889 & 15.64600075396631 &  72 & 1285\\\\\n",
       "\t Drama           & 67.2700000000000 & 15.82279074849652 & 100 & 1800\\\\\n",
       "\\end{tabular}\n"
      ],
      "text/markdown": [
       "\n",
       "A tibble: 19 × 5\n",
       "\n",
       "| genre &lt;chr&gt; | ysh &lt;dbl&gt; | sd_score &lt;dbl&gt; | nh &lt;int&gt; | Nh &lt;int&gt; |\n",
       "|---|---|---|---|---|\n",
       "| TV Movie        | 65.0000000000000 | 13.74772708486752 |   3 |   60 |\n",
       "| Western         | 61.7500000000000 |  4.34932945023330 |   4 |   69 |\n",
       "| Music           | 70.0000000000000 |  2.54950975679639 |   5 |   86 |\n",
       "| War             | 64.8000000000000 |  6.97853852894716 |   5 |   93 |\n",
       "| History         | 70.6666666666667 |  6.36396103067893 |   9 |  166 |\n",
       "| Documentary     | 64.1000000000000 | 24.50600833355862 |  10 |  180 |\n",
       "| Mystery         | 62.4666666666667 |  8.95119039702595 |  15 |  264 |\n",
       "| Family          | 66.0434782608696 |  6.66386634203492 |  23 |  407 |\n",
       "| Fantasy         | 67.5652173913043 |  9.71795941429401 |  23 |  407 |\n",
       "| Science Fiction | 62.5652173913044 | 10.38716903840556 |  23 |  409 |\n",
       "| Crime           | 65.6000000000000 |  8.26639784509150 |  25 |  454 |\n",
       "| Animation       | 69.2692307692308 |  5.71004512982300 |  26 |  467 |\n",
       "| Adventure       | 63.4062500000000 | 14.19190904205860 |  32 |  578 |\n",
       "| Romance         | 62.2105263157895 | 17.54092957988019 |  38 |  678 |\n",
       "| Horror          | 57.9534883720930 | 12.20451416947667 |  43 |  774 |\n",
       "| Action          | 62.9807692307692 |  7.69896958884857 |  52 |  939 |\n",
       "| Thriller        | 62.5555555555556 |  9.71997877679698 |  54 |  977 |\n",
       "| Comedy          | 61.1388888888889 | 15.64600075396631 |  72 | 1285 |\n",
       "| Drama           | 67.2700000000000 | 15.82279074849652 | 100 | 1800 |\n",
       "\n"
      ],
      "text/plain": [
       "   genre           ysh              sd_score          nh  Nh  \n",
       "1  TV Movie        65.0000000000000 13.74772708486752   3   60\n",
       "2  Western         61.7500000000000  4.34932945023330   4   69\n",
       "3  Music           70.0000000000000  2.54950975679639   5   86\n",
       "4  War             64.8000000000000  6.97853852894716   5   93\n",
       "5  History         70.6666666666667  6.36396103067893   9  166\n",
       "6  Documentary     64.1000000000000 24.50600833355862  10  180\n",
       "7  Mystery         62.4666666666667  8.95119039702595  15  264\n",
       "8  Family          66.0434782608696  6.66386634203492  23  407\n",
       "9  Fantasy         67.5652173913043  9.71795941429401  23  407\n",
       "10 Science Fiction 62.5652173913044 10.38716903840556  23  409\n",
       "11 Crime           65.6000000000000  8.26639784509150  25  454\n",
       "12 Animation       69.2692307692308  5.71004512982300  26  467\n",
       "13 Adventure       63.4062500000000 14.19190904205860  32  578\n",
       "14 Romance         62.2105263157895 17.54092957988019  38  678\n",
       "15 Horror          57.9534883720930 12.20451416947667  43  774\n",
       "16 Action          62.9807692307692  7.69896958884857  52  939\n",
       "17 Thriller        62.5555555555556  9.71997877679698  54  977\n",
       "18 Comedy          61.1388888888889 15.64600075396631  72 1285\n",
       "19 Drama           67.2700000000000 15.82279074849652 100 1800"
      ]
     },
     "metadata": {},
     "output_type": "display_data"
    }
   ],
   "source": [
    "# Calculate the average score and standard deviation for each stratum\n",
    "stratified_stats_y <- stratified_data %>%\n",
    "  group_by(genre) %>%\n",
    "  summarise(ysh = mean(score),\n",
    "            sd_score = sd(score),\n",
    "            nh = n())\n",
    "\n",
    "stratified_stats_y <- stratified_stats_y[order(stratified_stats_y$nh), ]\n",
    "\n",
    "\n",
    "stratified_stats_y$Nh <- genre_count$Nh\n",
    "\n",
    "\n",
    "stratified_stats_y"
   ]
  },
  {
   "cell_type": "code",
   "execution_count": 30,
   "metadata": {
    "id": "B29bltI8mQSY"
   },
   "outputs": [
    {
     "data": {
      "text/html": [
       "63.854351687389"
      ],
      "text/latex": [
       "63.854351687389"
      ],
      "text/markdown": [
       "63.854351687389"
      ],
      "text/plain": [
       "[1] 63.854351687389"
      ]
     },
     "metadata": {},
     "output_type": "display_data"
    },
    {
     "data": {
      "text/html": [
       "0.523841022250489"
      ],
      "text/latex": [
       "0.523841022250489"
      ],
      "text/markdown": [
       "0.523841022250489"
      ],
      "text/plain": [
       "[1] 0.523841022250489"
      ]
     },
     "metadata": {},
     "output_type": "display_data"
    }
   ],
   "source": [
    "ystr = sum((stratified_stats_y$nh/n_star) * stratified_stats_y$ysh)\n",
    "ystr\n",
    "se_ystr = sqrt(sum((stratified_stats_y$nh/n_star)^2 * (1-stratified_stats_y$nh/stratified_stats_y$Nh) * ((stratified_stats_y$sd_score)^2/stratified_stats_y$nh)))\n",
    "se_ystr"
   ]
  },
  {
   "cell_type": "markdown",
   "metadata": {
    "id": "aSEU3Z-mmYFO"
   },
   "source": [
    "# Stratified Sampling (Parameter 2: Proportion of Movies above Score of 65)"
   ]
  },
  {
   "cell_type": "code",
   "execution_count": 31,
   "metadata": {
    "id": "OzYUMvWEmWym"
   },
   "outputs": [
    {
     "data": {
      "text/html": [
       "<table class=\"dataframe\">\n",
       "<caption>A data.frame: 19 × 4</caption>\n",
       "<thead>\n",
       "\t<tr><th scope=col>genre</th><th scope=col>nh</th><th scope=col>Nh</th><th scope=col>psh</th></tr>\n",
       "\t<tr><th scope=col>&lt;chr&gt;</th><th scope=col>&lt;int&gt;</th><th scope=col>&lt;int&gt;</th><th scope=col>&lt;dbl&gt;</th></tr>\n",
       "</thead>\n",
       "<tbody>\n",
       "\t<tr><td>TV Movie       </td><td>  3</td><td>  60</td><td>0.666666666666667</td></tr>\n",
       "\t<tr><td>Western        </td><td>  4</td><td>  69</td><td>0.250000000000000</td></tr>\n",
       "\t<tr><td>Music          </td><td>  5</td><td>  86</td><td>0.200000000000000</td></tr>\n",
       "\t<tr><td>War            </td><td>  5</td><td>  93</td><td>1.000000000000000</td></tr>\n",
       "\t<tr><td>History        </td><td>  9</td><td> 166</td><td>0.888888888888889</td></tr>\n",
       "\t<tr><td>Documentary    </td><td> 10</td><td> 180</td><td>0.600000000000000</td></tr>\n",
       "\t<tr><td>Mystery        </td><td> 15</td><td> 264</td><td>0.333333333333333</td></tr>\n",
       "\t<tr><td>Family         </td><td> 23</td><td> 407</td><td>0.608695652173913</td></tr>\n",
       "\t<tr><td>Fantasy        </td><td> 23</td><td> 407</td><td>0.304347826086957</td></tr>\n",
       "\t<tr><td>Science Fiction</td><td> 23</td><td> 409</td><td>0.478260869565217</td></tr>\n",
       "\t<tr><td>Crime          </td><td> 25</td><td> 454</td><td>0.480000000000000</td></tr>\n",
       "\t<tr><td>Animation      </td><td> 26</td><td> 467</td><td>0.730769230769231</td></tr>\n",
       "\t<tr><td>Adventure      </td><td> 32</td><td> 578</td><td>0.500000000000000</td></tr>\n",
       "\t<tr><td>Romance        </td><td> 38</td><td> 678</td><td>0.473684210526316</td></tr>\n",
       "\t<tr><td>Horror         </td><td> 43</td><td> 774</td><td>0.186046511627907</td></tr>\n",
       "\t<tr><td>Action         </td><td> 52</td><td> 939</td><td>0.346153846153846</td></tr>\n",
       "\t<tr><td>Thriller       </td><td> 54</td><td> 977</td><td>0.388888888888889</td></tr>\n",
       "\t<tr><td>Comedy         </td><td> 72</td><td>1285</td><td>0.402777777777778</td></tr>\n",
       "\t<tr><td>Drama          </td><td>100</td><td>1800</td><td>0.680000000000000</td></tr>\n",
       "</tbody>\n",
       "</table>\n"
      ],
      "text/latex": [
       "A data.frame: 19 × 4\n",
       "\\begin{tabular}{llll}\n",
       " genre & nh & Nh & psh\\\\\n",
       " <chr> & <int> & <int> & <dbl>\\\\\n",
       "\\hline\n",
       "\t TV Movie        &   3 &   60 & 0.666666666666667\\\\\n",
       "\t Western         &   4 &   69 & 0.250000000000000\\\\\n",
       "\t Music           &   5 &   86 & 0.200000000000000\\\\\n",
       "\t War             &   5 &   93 & 1.000000000000000\\\\\n",
       "\t History         &   9 &  166 & 0.888888888888889\\\\\n",
       "\t Documentary     &  10 &  180 & 0.600000000000000\\\\\n",
       "\t Mystery         &  15 &  264 & 0.333333333333333\\\\\n",
       "\t Family          &  23 &  407 & 0.608695652173913\\\\\n",
       "\t Fantasy         &  23 &  407 & 0.304347826086957\\\\\n",
       "\t Science Fiction &  23 &  409 & 0.478260869565217\\\\\n",
       "\t Crime           &  25 &  454 & 0.480000000000000\\\\\n",
       "\t Animation       &  26 &  467 & 0.730769230769231\\\\\n",
       "\t Adventure       &  32 &  578 & 0.500000000000000\\\\\n",
       "\t Romance         &  38 &  678 & 0.473684210526316\\\\\n",
       "\t Horror          &  43 &  774 & 0.186046511627907\\\\\n",
       "\t Action          &  52 &  939 & 0.346153846153846\\\\\n",
       "\t Thriller        &  54 &  977 & 0.388888888888889\\\\\n",
       "\t Comedy          &  72 & 1285 & 0.402777777777778\\\\\n",
       "\t Drama           & 100 & 1800 & 0.680000000000000\\\\\n",
       "\\end{tabular}\n"
      ],
      "text/markdown": [
       "\n",
       "A data.frame: 19 × 4\n",
       "\n",
       "| genre &lt;chr&gt; | nh &lt;int&gt; | Nh &lt;int&gt; | psh &lt;dbl&gt; |\n",
       "|---|---|---|---|\n",
       "| TV Movie        |   3 |   60 | 0.666666666666667 |\n",
       "| Western         |   4 |   69 | 0.250000000000000 |\n",
       "| Music           |   5 |   86 | 0.200000000000000 |\n",
       "| War             |   5 |   93 | 1.000000000000000 |\n",
       "| History         |   9 |  166 | 0.888888888888889 |\n",
       "| Documentary     |  10 |  180 | 0.600000000000000 |\n",
       "| Mystery         |  15 |  264 | 0.333333333333333 |\n",
       "| Family          |  23 |  407 | 0.608695652173913 |\n",
       "| Fantasy         |  23 |  407 | 0.304347826086957 |\n",
       "| Science Fiction |  23 |  409 | 0.478260869565217 |\n",
       "| Crime           |  25 |  454 | 0.480000000000000 |\n",
       "| Animation       |  26 |  467 | 0.730769230769231 |\n",
       "| Adventure       |  32 |  578 | 0.500000000000000 |\n",
       "| Romance         |  38 |  678 | 0.473684210526316 |\n",
       "| Horror          |  43 |  774 | 0.186046511627907 |\n",
       "| Action          |  52 |  939 | 0.346153846153846 |\n",
       "| Thriller        |  54 |  977 | 0.388888888888889 |\n",
       "| Comedy          |  72 | 1285 | 0.402777777777778 |\n",
       "| Drama           | 100 | 1800 | 0.680000000000000 |\n",
       "\n"
      ],
      "text/plain": [
       "   genre           nh  Nh   psh              \n",
       "1  TV Movie          3   60 0.666666666666667\n",
       "2  Western           4   69 0.250000000000000\n",
       "3  Music             5   86 0.200000000000000\n",
       "4  War               5   93 1.000000000000000\n",
       "5  History           9  166 0.888888888888889\n",
       "6  Documentary      10  180 0.600000000000000\n",
       "7  Mystery          15  264 0.333333333333333\n",
       "8  Family           23  407 0.608695652173913\n",
       "9  Fantasy          23  407 0.304347826086957\n",
       "10 Science Fiction  23  409 0.478260869565217\n",
       "11 Crime            25  454 0.480000000000000\n",
       "12 Animation        26  467 0.730769230769231\n",
       "13 Adventure        32  578 0.500000000000000\n",
       "14 Romance          38  678 0.473684210526316\n",
       "15 Horror           43  774 0.186046511627907\n",
       "16 Action           52  939 0.346153846153846\n",
       "17 Thriller         54  977 0.388888888888889\n",
       "18 Comedy           72 1285 0.402777777777778\n",
       "19 Drama           100 1800 0.680000000000000"
      ]
     },
     "metadata": {},
     "output_type": "display_data"
    }
   ],
   "source": [
    "psh = c()\n",
    "\n",
    "for (i in 1:length(genre_count$genre)){\n",
    "    same_genre <- stratified_data %>% filter(genre==genre_count$genre[i])\n",
    "    same_genre_over_65 <- same_genre %>% filter(score > 65)\n",
    "    psh <- c(psh, nrow(same_genre_over_65) / nrow(same_genre))\n",
    "    }\n",
    "\n",
    "\n",
    "stratified_stats_p <- cbind((stratified_stats_y %>% select(-ysh, -sd_score)), psh)\n",
    "stratified_stats_p"
   ]
  },
  {
   "cell_type": "code",
   "execution_count": 32,
   "metadata": {
    "id": "v-DE5spSmZND"
   },
   "outputs": [
    {
     "data": {
      "text/html": [
       "0.477797513321492"
      ],
      "text/latex": [
       "0.477797513321492"
      ],
      "text/markdown": [
       "0.477797513321492"
      ],
      "text/plain": [
       "[1] 0.477797513321492"
      ]
     },
     "metadata": {},
     "output_type": "display_data"
    },
    {
     "data": {
      "text/html": [
       "0.0192160073089095"
      ],
      "text/latex": [
       "0.0192160073089095"
      ],
      "text/markdown": [
       "0.0192160073089095"
      ],
      "text/plain": [
       "[1] 0.0192160073089095"
      ]
     },
     "metadata": {},
     "output_type": "display_data"
    }
   ],
   "source": [
    "pstr <- sum((stratified_stats_p$nh/n_star) * stratified_stats_p$psh)\n",
    "pstr\n",
    "se_pstr <- sqrt(sum((stratified_stats_p$nh/n_star)^2 * (1-stratified_stats_p$nh/stratified_stats_p$Nh) * stratified_stats_p$psh*(1-stratified_stats_p$psh)/stratified_stats_p$nh))\n",
    "se_pstr"
   ]
  },
  {
   "cell_type": "code",
   "execution_count": null,
   "metadata": {},
   "outputs": [],
   "source": []
  }
 ],
 "metadata": {
  "colab": {
   "provenance": []
  },
  "kernelspec": {
   "display_name": "R",
   "language": "R",
   "name": "ir"
  },
  "language_info": {
   "codemirror_mode": "r",
   "file_extension": ".r",
   "mimetype": "text/x-r-source",
   "name": "R",
   "pygments_lexer": "r",
   "version": "4.3.1"
  }
 },
 "nbformat": 4,
 "nbformat_minor": 4
}
